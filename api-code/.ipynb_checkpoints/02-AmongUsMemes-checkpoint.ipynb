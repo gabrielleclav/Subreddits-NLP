{
 "cells": [
  {
   "cell_type": "markdown",
   "id": "d4035c44-8820-453a-9762-fa303181a51d",
   "metadata": {},
   "source": [
    "## API Data"
   ]
  },
  {
   "cell_type": "code",
   "execution_count": 1,
   "id": "95f26e55-54bf-4bd5-9161-efc734cbd0fa",
   "metadata": {},
   "outputs": [],
   "source": [
    "import requests\n",
    "import pandas as pd\n",
    "import time "
   ]
  },
  {
   "cell_type": "markdown",
   "id": "292c3c03-0c07-4e3e-b576-c3a214eb1ed8",
   "metadata": {},
   "source": [
    "#### Getting the first set of data"
   ]
  },
  {
   "cell_type": "code",
   "execution_count": 2,
   "id": "f3e52725-5c0b-4991-b917-0505ab5aaaad",
   "metadata": {},
   "outputs": [
    {
     "data": {
      "text/plain": [
       "200"
      ]
     },
     "execution_count": 2,
     "metadata": {},
     "output_type": "execute_result"
    }
   ],
   "source": [
    "url = 'https://api.pushshift.io/reddit/search/submission'\n",
    "\n",
    "params= {\n",
    "    'subreddit': 'AmongUsMemes',\n",
    "    'size': 100\n",
    "}\n",
    "\n",
    "res = requests.get(url, params)\n",
    "\n",
    "res.status_code"
   ]
  },
  {
   "cell_type": "markdown",
   "id": "21f5b7b3-42a9-4748-99dc-f27c1a16d1ab",
   "metadata": {},
   "source": [
    "#### Changing it to json and checking the key 'data"
   ]
  },
  {
   "cell_type": "code",
   "execution_count": 18,
   "id": "8459e34e-6f0d-4df4-8959-03e91ef38b16",
   "metadata": {
    "tags": []
   },
   "outputs": [
    {
     "name": "stdout",
     "output_type": "stream",
     "text": [
      "dict_keys(['data'])\n"
     ]
    }
   ],
   "source": [
    "res.json()\n",
    "\n",
    "type(res.json())\n",
    "\n",
    "data = res.json()\n",
    "\n",
    "print(data.keys())"
   ]
  },
  {
   "cell_type": "code",
   "execution_count": 4,
   "id": "b08a4f1f-8e84-438b-b8e6-03dab0e9e8cd",
   "metadata": {},
   "outputs": [
    {
     "data": {
      "text/plain": [
       "100"
      ]
     },
     "execution_count": 4,
     "metadata": {},
     "output_type": "execute_result"
    }
   ],
   "source": [
    "#Save it to a variable named posts\n",
    "posts = data['data']\n",
    "\n",
    "#Making sure it is the size of posts that was given in the params variable\n",
    "len(posts)"
   ]
  },
  {
   "cell_type": "markdown",
   "id": "5dca9f50-ea5f-4b1b-b6c4-976dea123a39",
   "metadata": {},
   "source": [
    "#### Getting the created time to get more data from the subreddit"
   ]
  },
  {
   "cell_type": "code",
   "execution_count": 5,
   "id": "17e4944d-859f-476c-8833-a9dcdd39d200",
   "metadata": {
    "tags": []
   },
   "outputs": [
    {
     "data": {
      "text/plain": [
       "1632083842"
      ]
     },
     "execution_count": 5,
     "metadata": {},
     "output_type": "execute_result"
    }
   ],
   "source": [
    "#Getting the created utc time to get more posts \n",
    "posts[len(posts)-1]['created_utc']"
   ]
  },
  {
   "cell_type": "markdown",
   "id": "fc37a35f-f765-4d8a-97b4-fcae81a442b8",
   "metadata": {},
   "source": [
    "#### Saving it to a DataFrame with only two columns"
   ]
  },
  {
   "cell_type": "code",
   "execution_count": 6,
   "id": "c7335b99-05eb-41ee-81aa-eeaf3b866720",
   "metadata": {},
   "outputs": [],
   "source": [
    "df = pd.DataFrame(posts)"
   ]
  },
  {
   "cell_type": "code",
   "execution_count": 7,
   "id": "8db33941-02d6-423f-9f77-38cbd260fa33",
   "metadata": {},
   "outputs": [],
   "source": [
    "ndf = pd.DataFrame(df[['subreddit', 'title']])"
   ]
  },
  {
   "cell_type": "code",
   "execution_count": 8,
   "id": "7c4a5321-c80a-4dc0-8d5d-5345e93fcdf7",
   "metadata": {},
   "outputs": [
    {
     "data": {
      "text/html": [
       "<div>\n",
       "<style scoped>\n",
       "    .dataframe tbody tr th:only-of-type {\n",
       "        vertical-align: middle;\n",
       "    }\n",
       "\n",
       "    .dataframe tbody tr th {\n",
       "        vertical-align: top;\n",
       "    }\n",
       "\n",
       "    .dataframe thead th {\n",
       "        text-align: right;\n",
       "    }\n",
       "</style>\n",
       "<table border=\"1\" class=\"dataframe\">\n",
       "  <thead>\n",
       "    <tr style=\"text-align: right;\">\n",
       "      <th></th>\n",
       "      <th>subreddit</th>\n",
       "      <th>title</th>\n",
       "    </tr>\n",
       "  </thead>\n",
       "  <tbody>\n",
       "    <tr>\n",
       "      <th>0</th>\n",
       "      <td>AmongUsMemes</td>\n",
       "      <td>It’s dead but it still haunts me</td>\n",
       "    </tr>\n",
       "    <tr>\n",
       "      <th>1</th>\n",
       "      <td>AmongUsMemes</td>\n",
       "      <td>The lamp was casting this shape on the wall</td>\n",
       "    </tr>\n",
       "    <tr>\n",
       "      <th>2</th>\n",
       "      <td>AmongUsMemes</td>\n",
       "      <td>OMGJGIHNIMADMATGNA (OH MY GOD. JERALD GET IN H...</td>\n",
       "    </tr>\n",
       "    <tr>\n",
       "      <th>3</th>\n",
       "      <td>AmongUsMemes</td>\n",
       "      <td>“An emergency meeting was called” (reuploaded)</td>\n",
       "    </tr>\n",
       "    <tr>\n",
       "      <th>4</th>\n",
       "      <td>AmongUsMemes</td>\n",
       "      <td>When Henry is sus</td>\n",
       "    </tr>\n",
       "  </tbody>\n",
       "</table>\n",
       "</div>"
      ],
      "text/plain": [
       "      subreddit                                              title\n",
       "0  AmongUsMemes                   It’s dead but it still haunts me\n",
       "1  AmongUsMemes        The lamp was casting this shape on the wall\n",
       "2  AmongUsMemes  OMGJGIHNIMADMATGNA (OH MY GOD. JERALD GET IN H...\n",
       "3  AmongUsMemes     “An emergency meeting was called” (reuploaded)\n",
       "4  AmongUsMemes                                  When Henry is sus"
      ]
     },
     "execution_count": 8,
     "metadata": {},
     "output_type": "execute_result"
    }
   ],
   "source": [
    "ndf.head()"
   ]
  },
  {
   "cell_type": "markdown",
   "id": "2cd74cf5-ca90-4fed-8d6d-d2f07e097cd0",
   "metadata": {},
   "source": [
    "## Getting More Data from API\n",
    "---"
   ]
  },
  {
   "cell_type": "markdown",
   "id": "1eaaf285-b2be-4d90-875e-50807ebe861d",
   "metadata": {},
   "source": [
    "#### Function getting the posts"
   ]
  },
  {
   "cell_type": "code",
   "execution_count": 9,
   "id": "6590b856-ad51-4b15-9d4f-97aac07d4d24",
   "metadata": {},
   "outputs": [],
   "source": [
    "def get_api_data(subreddit, before_time):\n",
    "    url = 'https://api.pushshift.io/reddit/search/submission'\n",
    "    params= {\n",
    "        'subreddit': 'AmongUsMemes',\n",
    "        'size': 100,\n",
    "        'before': before_time\n",
    "    }\n",
    "    res_api = requests.get(url, params)\n",
    "    \n",
    "    data = res_api.json()\n",
    "    \n",
    "    posts = data['data']\n",
    "    \n",
    "    return (posts)"
   ]
  },
  {
   "cell_type": "markdown",
   "id": "270f709e-5e16-42ca-b9da-3cbb5e507788",
   "metadata": {},
   "source": [
    "#### Function getting the before time to get more data"
   ]
  },
  {
   "cell_type": "code",
   "execution_count": 10,
   "id": "f6955542-4c38-4106-8bc3-d2d4ad0ff2f6",
   "metadata": {},
   "outputs": [],
   "source": [
    "def get_before_data(posts):\n",
    "    return posts[len(posts)-1]['created_utc']"
   ]
  },
  {
   "cell_type": "markdown",
   "id": "4a157dfd-e689-43eb-ab44-89aec36f41cc",
   "metadata": {},
   "source": [
    "#### Function to create the DataFrame"
   ]
  },
  {
   "cell_type": "code",
   "execution_count": 11,
   "id": "21dcf069-7c17-4521-9397-fa69a681c43b",
   "metadata": {},
   "outputs": [],
   "source": [
    "def get_df(to_df):\n",
    "    to_df = pd.DataFrame(to_df)\n",
    "    get_df_cols = to_df[['subreddit', 'title']]\n",
    "    return get_df_cols"
   ]
  },
  {
   "cell_type": "markdown",
   "id": "2b0297cc-1615-452b-a674-da39667f1d00",
   "metadata": {},
   "source": [
    "#### Looping five times to get about 1100 rows of data "
   ]
  },
  {
   "cell_type": "code",
   "execution_count": 12,
   "id": "275353b2-b1c3-4be2-ae8f-fe8048136518",
   "metadata": {},
   "outputs": [],
   "source": [
    "before = 1632057384 #This is from the first one we got from the API; it will be changed everytime the for loop executes \n",
    "all_data_df = ndf #creating a Data Frame with all the data that will be needed for this project\n",
    "for i in range(10):\n",
    "    posts = get_api_data(before)\n",
    "    before = get_before_data(posts)\n",
    "    all_data_df = all_data_df.append(get_df(posts), ignore_index=True)\n",
    "    time.sleep(5)\n",
    "    "
   ]
  },
  {
   "cell_type": "code",
   "execution_count": 13,
   "id": "8f6ea5c4-01db-43a9-816d-db353c203341",
   "metadata": {},
   "outputs": [
    {
     "data": {
      "text/html": [
       "<div>\n",
       "<style scoped>\n",
       "    .dataframe tbody tr th:only-of-type {\n",
       "        vertical-align: middle;\n",
       "    }\n",
       "\n",
       "    .dataframe tbody tr th {\n",
       "        vertical-align: top;\n",
       "    }\n",
       "\n",
       "    .dataframe thead th {\n",
       "        text-align: right;\n",
       "    }\n",
       "</style>\n",
       "<table border=\"1\" class=\"dataframe\">\n",
       "  <thead>\n",
       "    <tr style=\"text-align: right;\">\n",
       "      <th></th>\n",
       "      <th>subreddit</th>\n",
       "      <th>title</th>\n",
       "    </tr>\n",
       "  </thead>\n",
       "  <tbody>\n",
       "    <tr>\n",
       "      <th>1095</th>\n",
       "      <td>AmongUsMemes</td>\n",
       "      <td>i was playing journey and my brain just immedi...</td>\n",
       "    </tr>\n",
       "    <tr>\n",
       "      <th>1096</th>\n",
       "      <td>AmongUsMemes</td>\n",
       "      <td>Being Imposter is easy</td>\n",
       "    </tr>\n",
       "    <tr>\n",
       "      <th>1097</th>\n",
       "      <td>AmongUsMemes</td>\n",
       "      <td>😳😳😳😳😳😳</td>\n",
       "    </tr>\n",
       "    <tr>\n",
       "      <th>1098</th>\n",
       "      <td>AmongUsMemes</td>\n",
       "      <td>The Imposter gets tired of being called a Suss...</td>\n",
       "    </tr>\n",
       "    <tr>\n",
       "      <th>1099</th>\n",
       "      <td>AmongUsMemes</td>\n",
       "      <td>Windows 11 is SUS</td>\n",
       "    </tr>\n",
       "  </tbody>\n",
       "</table>\n",
       "</div>"
      ],
      "text/plain": [
       "         subreddit                                              title\n",
       "1095  AmongUsMemes  i was playing journey and my brain just immedi...\n",
       "1096  AmongUsMemes                             Being Imposter is easy\n",
       "1097  AmongUsMemes                                             😳😳😳😳😳😳\n",
       "1098  AmongUsMemes  The Imposter gets tired of being called a Suss...\n",
       "1099  AmongUsMemes                                  Windows 11 is SUS"
      ]
     },
     "execution_count": 13,
     "metadata": {},
     "output_type": "execute_result"
    }
   ],
   "source": [
    "all_data_df.tail()"
   ]
  },
  {
   "cell_type": "markdown",
   "id": "2efd837c-5c23-4cfc-b224-0128da8bbdec",
   "metadata": {},
   "source": [
    "Deleting the 7 rows to have the same amount of data as the other two datasets."
   ]
  },
  {
   "cell_type": "code",
   "execution_count": 21,
   "id": "7f4d9e42-1d19-4ec3-9a31-e01c320c095b",
   "metadata": {},
   "outputs": [],
   "source": [
    "all_data_df.drop([1088, 1089, 1090, 1091, 1092, 1093, 1094], inplace=True)"
   ]
  },
  {
   "cell_type": "code",
   "execution_count": 22,
   "id": "057c7141-aa12-4175-a0ba-681aeefb94b9",
   "metadata": {},
   "outputs": [
    {
     "data": {
      "text/plain": [
       "(1093, 2)"
      ]
     },
     "execution_count": 22,
     "metadata": {},
     "output_type": "execute_result"
    }
   ],
   "source": [
    "all_data_df.shape"
   ]
  },
  {
   "cell_type": "code",
   "execution_count": 23,
   "id": "eead437d-766f-4357-b699-cb50338dc50b",
   "metadata": {},
   "outputs": [],
   "source": [
    "all_data_df.reset_index(drop=True, inplace=True)"
   ]
  },
  {
   "cell_type": "code",
   "execution_count": 24,
   "id": "045dfeed-3ba1-4af0-b1c7-4ebb1e52a73e",
   "metadata": {},
   "outputs": [
    {
     "data": {
      "text/plain": [
       "(1093, 2)"
      ]
     },
     "execution_count": 24,
     "metadata": {},
     "output_type": "execute_result"
    }
   ],
   "source": [
    "all_data_df.shape"
   ]
  },
  {
   "cell_type": "markdown",
   "id": "1758c7a5-317a-4ef0-8717-b0f1cfdcb565",
   "metadata": {},
   "source": [
    "## Saving it as a CSV File\n",
    "---"
   ]
  },
  {
   "cell_type": "code",
   "execution_count": 25,
   "id": "79b6a838-8fb5-4ac3-a1e2-3449ec3a4e01",
   "metadata": {},
   "outputs": [],
   "source": [
    "all_data_df.to_csv('../datasets/AmongUs_Memes.csv', index=False)"
   ]
  },
  {
   "cell_type": "markdown",
   "id": "0dceaaf3-dac4-4c0e-b709-f33b34e6fce7",
   "metadata": {},
   "source": [
    "### Checking the CSV"
   ]
  },
  {
   "cell_type": "code",
   "execution_count": 26,
   "id": "a289fbbd-432a-4ed7-a651-a3873df94fd4",
   "metadata": {},
   "outputs": [],
   "source": [
    "read = pd.read_csv('../datasets/AmongUs_Memes.csv')"
   ]
  },
  {
   "cell_type": "code",
   "execution_count": 27,
   "id": "5e90ae43-029d-4143-9a6e-d3687c7b79a4",
   "metadata": {},
   "outputs": [
    {
     "data": {
      "text/html": [
       "<div>\n",
       "<style scoped>\n",
       "    .dataframe tbody tr th:only-of-type {\n",
       "        vertical-align: middle;\n",
       "    }\n",
       "\n",
       "    .dataframe tbody tr th {\n",
       "        vertical-align: top;\n",
       "    }\n",
       "\n",
       "    .dataframe thead th {\n",
       "        text-align: right;\n",
       "    }\n",
       "</style>\n",
       "<table border=\"1\" class=\"dataframe\">\n",
       "  <thead>\n",
       "    <tr style=\"text-align: right;\">\n",
       "      <th></th>\n",
       "      <th>subreddit</th>\n",
       "      <th>title</th>\n",
       "    </tr>\n",
       "  </thead>\n",
       "  <tbody>\n",
       "    <tr>\n",
       "      <th>0</th>\n",
       "      <td>AmongUsMemes</td>\n",
       "      <td>It’s dead but it still haunts me</td>\n",
       "    </tr>\n",
       "    <tr>\n",
       "      <th>1</th>\n",
       "      <td>AmongUsMemes</td>\n",
       "      <td>The lamp was casting this shape on the wall</td>\n",
       "    </tr>\n",
       "    <tr>\n",
       "      <th>2</th>\n",
       "      <td>AmongUsMemes</td>\n",
       "      <td>OMGJGIHNIMADMATGNA (OH MY GOD. JERALD GET IN H...</td>\n",
       "    </tr>\n",
       "    <tr>\n",
       "      <th>3</th>\n",
       "      <td>AmongUsMemes</td>\n",
       "      <td>“An emergency meeting was called” (reuploaded)</td>\n",
       "    </tr>\n",
       "    <tr>\n",
       "      <th>4</th>\n",
       "      <td>AmongUsMemes</td>\n",
       "      <td>When Henry is sus</td>\n",
       "    </tr>\n",
       "  </tbody>\n",
       "</table>\n",
       "</div>"
      ],
      "text/plain": [
       "      subreddit                                              title\n",
       "0  AmongUsMemes                   It’s dead but it still haunts me\n",
       "1  AmongUsMemes        The lamp was casting this shape on the wall\n",
       "2  AmongUsMemes  OMGJGIHNIMADMATGNA (OH MY GOD. JERALD GET IN H...\n",
       "3  AmongUsMemes     “An emergency meeting was called” (reuploaded)\n",
       "4  AmongUsMemes                                  When Henry is sus"
      ]
     },
     "execution_count": 27,
     "metadata": {},
     "output_type": "execute_result"
    }
   ],
   "source": [
    "read.head()"
   ]
  },
  {
   "cell_type": "code",
   "execution_count": 28,
   "id": "aa8d2537-4687-4ee6-8358-2d39b1d784dc",
   "metadata": {},
   "outputs": [
    {
     "data": {
      "text/html": [
       "<div>\n",
       "<style scoped>\n",
       "    .dataframe tbody tr th:only-of-type {\n",
       "        vertical-align: middle;\n",
       "    }\n",
       "\n",
       "    .dataframe tbody tr th {\n",
       "        vertical-align: top;\n",
       "    }\n",
       "\n",
       "    .dataframe thead th {\n",
       "        text-align: right;\n",
       "    }\n",
       "</style>\n",
       "<table border=\"1\" class=\"dataframe\">\n",
       "  <thead>\n",
       "    <tr style=\"text-align: right;\">\n",
       "      <th></th>\n",
       "      <th>subreddit</th>\n",
       "      <th>title</th>\n",
       "    </tr>\n",
       "  </thead>\n",
       "  <tbody>\n",
       "    <tr>\n",
       "      <th>1088</th>\n",
       "      <td>AmongUsMemes</td>\n",
       "      <td>i was playing journey and my brain just immedi...</td>\n",
       "    </tr>\n",
       "    <tr>\n",
       "      <th>1089</th>\n",
       "      <td>AmongUsMemes</td>\n",
       "      <td>Being Imposter is easy</td>\n",
       "    </tr>\n",
       "    <tr>\n",
       "      <th>1090</th>\n",
       "      <td>AmongUsMemes</td>\n",
       "      <td>😳😳😳😳😳😳</td>\n",
       "    </tr>\n",
       "    <tr>\n",
       "      <th>1091</th>\n",
       "      <td>AmongUsMemes</td>\n",
       "      <td>The Imposter gets tired of being called a Suss...</td>\n",
       "    </tr>\n",
       "    <tr>\n",
       "      <th>1092</th>\n",
       "      <td>AmongUsMemes</td>\n",
       "      <td>Windows 11 is SUS</td>\n",
       "    </tr>\n",
       "  </tbody>\n",
       "</table>\n",
       "</div>"
      ],
      "text/plain": [
       "         subreddit                                              title\n",
       "1088  AmongUsMemes  i was playing journey and my brain just immedi...\n",
       "1089  AmongUsMemes                             Being Imposter is easy\n",
       "1090  AmongUsMemes                                             😳😳😳😳😳😳\n",
       "1091  AmongUsMemes  The Imposter gets tired of being called a Suss...\n",
       "1092  AmongUsMemes                                  Windows 11 is SUS"
      ]
     },
     "execution_count": 28,
     "metadata": {},
     "output_type": "execute_result"
    }
   ],
   "source": [
    "read.tail()"
   ]
  }
 ],
 "metadata": {
  "kernelspec": {
   "display_name": "Python 3",
   "language": "python",
   "name": "python3"
  },
  "language_info": {
   "codemirror_mode": {
    "name": "ipython",
    "version": 3
   },
   "file_extension": ".py",
   "mimetype": "text/x-python",
   "name": "python",
   "nbconvert_exporter": "python",
   "pygments_lexer": "ipython3",
   "version": "3.8.8"
  }
 },
 "nbformat": 4,
 "nbformat_minor": 5
}
