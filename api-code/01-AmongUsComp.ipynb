{
 "cells": [
  {
   "cell_type": "markdown",
   "id": "8ee489ae-4fa0-4fdc-b0a8-4560080e29bd",
   "metadata": {},
   "source": [
    "## API Data"
   ]
  },
  {
   "cell_type": "code",
   "execution_count": 1,
   "id": "1122c368-b244-4bd3-ac81-130d84d794c6",
   "metadata": {},
   "outputs": [],
   "source": [
    "import requests\n",
    "import pandas as pd\n",
    "import time"
   ]
  },
  {
   "cell_type": "markdown",
   "id": "34513efe-7957-491b-a228-02f9146884b7",
   "metadata": {},
   "source": [
    "#### Getting the first set of data"
   ]
  },
  {
   "cell_type": "code",
   "execution_count": 2,
   "id": "4c7d9007-c789-4746-b053-f6eeb63fd385",
   "metadata": {},
   "outputs": [
    {
     "data": {
      "text/plain": [
       "200"
      ]
     },
     "execution_count": 2,
     "metadata": {},
     "output_type": "execute_result"
    }
   ],
   "source": [
    "url = 'https://api.pushshift.io/reddit/search/submission'\n",
    "\n",
    "params= {\n",
    "    'subreddit': 'AmongUsCompetitive',\n",
    "    'size': 100\n",
    "}\n",
    "\n",
    "res = requests.get(url, params)\n",
    "\n",
    "res.status_code"
   ]
  },
  {
   "cell_type": "markdown",
   "id": "4856e118-75a0-4fbf-8b28-1215398fd733",
   "metadata": {},
   "source": [
    "#### Changing it to json and checking the key 'data"
   ]
  },
  {
   "cell_type": "code",
   "execution_count": 3,
   "id": "168ece75-6f91-4f45-9d34-9a83c2ef9374",
   "metadata": {
    "tags": []
   },
   "outputs": [
    {
     "name": "stdout",
     "output_type": "stream",
     "text": [
      "dict_keys(['data'])\n",
      "{'all_awardings': [], 'allow_live_comments': False, 'author': 'ericinterno', 'author_flair_css_class': None, 'author_flair_richtext': [], 'author_flair_text': None, 'author_flair_type': 'text', 'author_fullname': 't2_ag5duns4', 'author_is_blocked': False, 'author_patreon_flair': False, 'author_premium': False, 'awarders': [], 'can_mod_post': False, 'contest_mode': False, 'created_utc': 1632857106, 'domain': 'youtu.be', 'full_link': 'https://www.reddit.com/r/AmongUsCompetitive/comments/pxdrp8/cops_vs_robbers_among_us_no_commentary_part_2/', 'gildings': {}, 'id': 'pxdrp8', 'is_created_from_ads_ui': False, 'is_crosspostable': False, 'is_meta': False, 'is_original_content': False, 'is_reddit_media_domain': False, 'is_robot_indexable': False, 'is_self': False, 'is_video': False, 'link_flair_background_color': '#d10099', 'link_flair_richtext': [{'e': 'text', 't': 'Photo | Video'}], 'link_flair_template_id': 'ddafadf8-ea77-11ea-99cb-0e37641c3e89', 'link_flair_text': 'Photo | Video', 'link_flair_text_color': 'light', 'link_flair_type': 'richtext', 'locked': False, 'media': {'oembed': {'author_name': 'Gameplay Overload', 'author_url': 'https://www.youtube.com/channel/UCtD2uM2cAmh7cfBvcv7t6jw', 'height': 200, 'html': '&lt;iframe width=\"356\" height=\"200\" src=\"https://www.youtube.com/embed/0mTLHBbhFO0?feature=oembed&amp;enablejsapi=1\" frameborder=\"0\" allow=\"accelerometer; autoplay; clipboard-write; encrypted-media; gyroscope; picture-in-picture\" allowfullscreen&gt;&lt;/iframe&gt;', 'provider_name': 'YouTube', 'provider_url': 'https://www.youtube.com/', 'thumbnail_height': 360, 'thumbnail_url': 'https://i.ytimg.com/vi/0mTLHBbhFO0/hqdefault.jpg', 'thumbnail_width': 480, 'title': 'Cops VS Robbers (Among Us) No Commentary Part 2', 'type': 'video', 'version': '1.0', 'width': 356}, 'type': 'youtube.com'}, 'media_embed': {'content': '&lt;iframe width=\"356\" height=\"200\" src=\"https://www.youtube.com/embed/0mTLHBbhFO0?feature=oembed&amp;enablejsapi=1\" frameborder=\"0\" allow=\"accelerometer; autoplay; clipboard-write; encrypted-media; gyroscope; picture-in-picture\" allowfullscreen&gt;&lt;/iframe&gt;', 'height': 200, 'scrolling': False, 'width': 356}, 'media_only': False, 'no_follow': True, 'num_comments': 0, 'num_crossposts': 0, 'over_18': False, 'permalink': '/r/AmongUsCompetitive/comments/pxdrp8/cops_vs_robbers_among_us_no_commentary_part_2/', 'pinned': False, 'post_hint': 'rich:video', 'preview': {'enabled': False, 'images': [{'id': 'SFkQcgJAYHO-gCCur270-1taU2J-4JuJF5HMVOcPTBw', 'resolutions': [{'height': 81, 'url': 'https://external-preview.redd.it/qvQq5H9cbRCZ2sWO8vWd2zyA26dmK12ek8FR0FER3lw.jpg?width=108&amp;crop=smart&amp;auto=webp&amp;s=9e88cb96601cd5d04d9e6416d89521c28976e16f', 'width': 108}, {'height': 162, 'url': 'https://external-preview.redd.it/qvQq5H9cbRCZ2sWO8vWd2zyA26dmK12ek8FR0FER3lw.jpg?width=216&amp;crop=smart&amp;auto=webp&amp;s=a89076f570289695075560cf59c794382b5feb28', 'width': 216}, {'height': 240, 'url': 'https://external-preview.redd.it/qvQq5H9cbRCZ2sWO8vWd2zyA26dmK12ek8FR0FER3lw.jpg?width=320&amp;crop=smart&amp;auto=webp&amp;s=8328a3ecfc804feb412baa20aa1e4e043764d896', 'width': 320}], 'source': {'height': 360, 'url': 'https://external-preview.redd.it/qvQq5H9cbRCZ2sWO8vWd2zyA26dmK12ek8FR0FER3lw.jpg?auto=webp&amp;s=5bb10639eaed4893c6ac47a41ed83674da6443f5', 'width': 480}, 'variants': {}}]}, 'removed_by_category': 'reddit', 'retrieved_on': 1632857117, 'score': 1, 'secure_media': {'oembed': {'author_name': 'Gameplay Overload', 'author_url': 'https://www.youtube.com/channel/UCtD2uM2cAmh7cfBvcv7t6jw', 'height': 200, 'html': '&lt;iframe width=\"356\" height=\"200\" src=\"https://www.youtube.com/embed/0mTLHBbhFO0?feature=oembed&amp;enablejsapi=1\" frameborder=\"0\" allow=\"accelerometer; autoplay; clipboard-write; encrypted-media; gyroscope; picture-in-picture\" allowfullscreen&gt;&lt;/iframe&gt;', 'provider_name': 'YouTube', 'provider_url': 'https://www.youtube.com/', 'thumbnail_height': 360, 'thumbnail_url': 'https://i.ytimg.com/vi/0mTLHBbhFO0/hqdefault.jpg', 'thumbnail_width': 480, 'title': 'Cops VS Robbers (Among Us) No Commentary Part 2', 'type': 'video', 'version': '1.0', 'width': 356}, 'type': 'youtube.com'}, 'secure_media_embed': {'content': '&lt;iframe width=\"356\" height=\"200\" src=\"https://www.youtube.com/embed/0mTLHBbhFO0?feature=oembed&amp;enablejsapi=1\" frameborder=\"0\" allow=\"accelerometer; autoplay; clipboard-write; encrypted-media; gyroscope; picture-in-picture\" allowfullscreen&gt;&lt;/iframe&gt;', 'height': 200, 'media_domain_url': 'https://www.redditmedia.com/mediaembed/pxdrp8', 'scrolling': False, 'width': 356}, 'selftext': '', 'send_replies': True, 'spoiler': False, 'stickied': False, 'subreddit': 'AmongUsCompetitive', 'subreddit_id': 't5_31rhr0', 'subreddit_subscribers': 21881, 'subreddit_type': 'public', 'thumbnail': 'https://b.thumbs.redditmedia.com/sFBWwBD4LsQTtDlGadF9XnY1tRqbd5jZz_HDFwXFEuo.jpg', 'thumbnail_height': 105, 'thumbnail_width': 140, 'title': 'Cops VS Robbers (Among Us) No Commentary Part 2', 'total_awards_received': 0, 'treatment_tags': [], 'upvote_ratio': 1.0, 'url': 'https://youtu.be/0mTLHBbhFO0', 'url_overridden_by_dest': 'https://youtu.be/0mTLHBbhFO0'}\n"
     ]
    }
   ],
   "source": [
    "res.json()\n",
    "\n",
    "type(res.json())\n",
    "\n",
    "data = res.json()\n",
    "\n",
    "print(data.keys())\n",
    "\n",
    "print(data['data'][1])"
   ]
  },
  {
   "cell_type": "code",
   "execution_count": 4,
   "id": "0fcf9d31-34d1-4820-8fe1-4029d1437a20",
   "metadata": {},
   "outputs": [
    {
     "data": {
      "text/plain": [
       "100"
      ]
     },
     "execution_count": 4,
     "metadata": {},
     "output_type": "execute_result"
    }
   ],
   "source": [
    "#Save it to a variable named posts\n",
    "posts = data['data']\n",
    "\n",
    "#Making sure it is the size of posts that was given in the params variable\n",
    "len(posts)"
   ]
  },
  {
   "cell_type": "markdown",
   "id": "c2bbd344-0342-4915-aecf-af05745fb999",
   "metadata": {},
   "source": [
    "#### Getting the created time to get more data from the subreddit"
   ]
  },
  {
   "cell_type": "code",
   "execution_count": 5,
   "id": "367e06c6-cc39-4c74-a72e-a7f2dad6fab0",
   "metadata": {
    "tags": []
   },
   "outputs": [
    {
     "data": {
      "text/plain": [
       "1628475347"
      ]
     },
     "execution_count": 5,
     "metadata": {},
     "output_type": "execute_result"
    }
   ],
   "source": [
    "#Getting the created utc time to get more posts \n",
    "posts[len(posts)-1]['created_utc']"
   ]
  },
  {
   "cell_type": "markdown",
   "id": "042d50d8-643f-4494-975c-cd3bcc3b4c14",
   "metadata": {},
   "source": [
    "#### Saving it to a DataFrame with only two columns"
   ]
  },
  {
   "cell_type": "code",
   "execution_count": 6,
   "id": "ac649f35-b6ac-4c6a-b320-bf0f2a0267b7",
   "metadata": {},
   "outputs": [],
   "source": [
    "df = pd.DataFrame(posts)"
   ]
  },
  {
   "cell_type": "code",
   "execution_count": 7,
   "id": "452488bc-913c-4c32-b019-0e910bfb006d",
   "metadata": {},
   "outputs": [],
   "source": [
    "ndf = pd.DataFrame(df[['subreddit', 'title']])"
   ]
  },
  {
   "cell_type": "code",
   "execution_count": 8,
   "id": "e4dbb1ba-b97f-41c2-aafb-ec52f327d734",
   "metadata": {},
   "outputs": [
    {
     "data": {
      "text/html": [
       "<div>\n",
       "<style scoped>\n",
       "    .dataframe tbody tr th:only-of-type {\n",
       "        vertical-align: middle;\n",
       "    }\n",
       "\n",
       "    .dataframe tbody tr th {\n",
       "        vertical-align: top;\n",
       "    }\n",
       "\n",
       "    .dataframe thead th {\n",
       "        text-align: right;\n",
       "    }\n",
       "</style>\n",
       "<table border=\"1\" class=\"dataframe\">\n",
       "  <thead>\n",
       "    <tr style=\"text-align: right;\">\n",
       "      <th></th>\n",
       "      <th>subreddit</th>\n",
       "      <th>title</th>\n",
       "    </tr>\n",
       "  </thead>\n",
       "  <tbody>\n",
       "    <tr>\n",
       "      <th>0</th>\n",
       "      <td>AmongUsCompetitive</td>\n",
       "      <td>COPS vs ROBBERS *minigame* (Among us) Part 7</td>\n",
       "    </tr>\n",
       "    <tr>\n",
       "      <th>1</th>\n",
       "      <td>AmongUsCompetitive</td>\n",
       "      <td>Cops VS Robbers (Among Us) No Commentary Part 2</td>\n",
       "    </tr>\n",
       "    <tr>\n",
       "      <th>2</th>\n",
       "      <td>AmongUsCompetitive</td>\n",
       "      <td>CAUGHT THE IMPOSTOR IN MR BEAST TIKTOK VIDEO (...</td>\n",
       "    </tr>\n",
       "    <tr>\n",
       "      <th>3</th>\n",
       "      <td>AmongUsCompetitive</td>\n",
       "      <td>Among Us : The crew has no face to go out with...</td>\n",
       "    </tr>\n",
       "    <tr>\n",
       "      <th>4</th>\n",
       "      <td>AmongUsCompetitive</td>\n",
       "      <td>Among us Zombie Highlights Part 9</td>\n",
       "    </tr>\n",
       "  </tbody>\n",
       "</table>\n",
       "</div>"
      ],
      "text/plain": [
       "            subreddit                                              title\n",
       "0  AmongUsCompetitive       COPS vs ROBBERS *minigame* (Among us) Part 7\n",
       "1  AmongUsCompetitive    Cops VS Robbers (Among Us) No Commentary Part 2\n",
       "2  AmongUsCompetitive  CAUGHT THE IMPOSTOR IN MR BEAST TIKTOK VIDEO (...\n",
       "3  AmongUsCompetitive  Among Us : The crew has no face to go out with...\n",
       "4  AmongUsCompetitive                  Among us Zombie Highlights Part 9"
      ]
     },
     "execution_count": 8,
     "metadata": {},
     "output_type": "execute_result"
    }
   ],
   "source": [
    "ndf.head()"
   ]
  },
  {
   "cell_type": "markdown",
   "id": "c444ca72-224a-4839-a0d3-5495ac7673c9",
   "metadata": {},
   "source": [
    "## Getting More Data from API\n",
    "---"
   ]
  },
  {
   "cell_type": "markdown",
   "id": "589c81d5-0104-40bd-8b0c-0f64ed416802",
   "metadata": {},
   "source": [
    "#### Function getting the posts"
   ]
  },
  {
   "cell_type": "code",
   "execution_count": 9,
   "id": "a83280f6-5319-4042-b873-a6462fa5812a",
   "metadata": {},
   "outputs": [],
   "source": [
    "def get_api_data(before_time):\n",
    "    url = 'https://api.pushshift.io/reddit/search/submission'\n",
    "    params= {\n",
    "        'subreddit': 'AmongUsCompetitive',\n",
    "        'size': 100,\n",
    "        'before': before_time\n",
    "    }\n",
    "    res_api = requests.get(url, params)\n",
    "    \n",
    "    data = res_api.json()\n",
    "    \n",
    "    posts = data['data']\n",
    "    \n",
    "    return (posts)"
   ]
  },
  {
   "cell_type": "markdown",
   "id": "66fd4554-582a-4347-a731-2a6db82d38e0",
   "metadata": {},
   "source": [
    "#### Function getting the before time to get more data"
   ]
  },
  {
   "cell_type": "code",
   "execution_count": 10,
   "id": "05b13a80-e3c3-4fb6-bcdf-c8d84954e894",
   "metadata": {},
   "outputs": [],
   "source": [
    "def get_before_data(posts):\n",
    "    return posts[len(posts)-1]['created_utc']"
   ]
  },
  {
   "cell_type": "markdown",
   "id": "014f3869-bdef-4795-8057-54f9e83478dd",
   "metadata": {},
   "source": [
    "#### Function to create the DataFrame"
   ]
  },
  {
   "cell_type": "code",
   "execution_count": 11,
   "id": "496fe013-8ae4-4300-a094-374290ad1339",
   "metadata": {},
   "outputs": [],
   "source": [
    "def get_df(to_df):\n",
    "    to_df = pd.DataFrame(to_df)\n",
    "    get_df_cols = to_df[['subreddit', 'title']]\n",
    "    return get_df_cols"
   ]
  },
  {
   "cell_type": "markdown",
   "id": "1bc5611c-dc0c-4e2d-8d5a-102f08322522",
   "metadata": {},
   "source": [
    "#### Looping five times to get about 1100 rows of data "
   ]
  },
  {
   "cell_type": "code",
   "execution_count": 12,
   "id": "ea201b07-1798-4482-b6dd-a88ace34356f",
   "metadata": {},
   "outputs": [],
   "source": [
    "before = 1628470703 #This is from the first one we got from the API; it will be changed everytime the for loop executes \n",
    "all_data_df = ndf #creating a Data Frame with all the data that will be needed for this project\n",
    "for i in range(10):\n",
    "    posts = get_api_data(before)\n",
    "    before = get_before_data(posts)\n",
    "    all_data_df = all_data_df.append(get_df(posts), ignore_index=True)\n",
    "    time.sleep(5)\n",
    "    "
   ]
  },
  {
   "cell_type": "code",
   "execution_count": 13,
   "id": "a1fe4ec1-9f7c-42eb-a650-f3163c10a6b6",
   "metadata": {},
   "outputs": [
    {
     "data": {
      "text/html": [
       "<div>\n",
       "<style scoped>\n",
       "    .dataframe tbody tr th:only-of-type {\n",
       "        vertical-align: middle;\n",
       "    }\n",
       "\n",
       "    .dataframe tbody tr th {\n",
       "        vertical-align: top;\n",
       "    }\n",
       "\n",
       "    .dataframe thead th {\n",
       "        text-align: right;\n",
       "    }\n",
       "</style>\n",
       "<table border=\"1\" class=\"dataframe\">\n",
       "  <thead>\n",
       "    <tr style=\"text-align: right;\">\n",
       "      <th></th>\n",
       "      <th>subreddit</th>\n",
       "      <th>title</th>\n",
       "    </tr>\n",
       "  </thead>\n",
       "  <tbody>\n",
       "    <tr>\n",
       "      <th>1095</th>\n",
       "      <td>AmongUsCompetitive</td>\n",
       "      <td>When the</td>\n",
       "    </tr>\n",
       "    <tr>\n",
       "      <th>1096</th>\n",
       "      <td>AmongUsCompetitive</td>\n",
       "      <td>when</td>\n",
       "    </tr>\n",
       "    <tr>\n",
       "      <th>1097</th>\n",
       "      <td>AmongUsCompetitive</td>\n",
       "      <td>This among us flipbook is awesome</td>\n",
       "    </tr>\n",
       "    <tr>\n",
       "      <th>1098</th>\n",
       "      <td>AmongUsCompetitive</td>\n",
       "      <td>How would a crewmate get out of a false self-r...</td>\n",
       "    </tr>\n",
       "    <tr>\n",
       "      <th>1099</th>\n",
       "      <td>AmongUsCompetitive</td>\n",
       "      <td>Pro league strats</td>\n",
       "    </tr>\n",
       "  </tbody>\n",
       "</table>\n",
       "</div>"
      ],
      "text/plain": [
       "               subreddit                                              title\n",
       "1095  AmongUsCompetitive                                           When the\n",
       "1096  AmongUsCompetitive                                               when\n",
       "1097  AmongUsCompetitive                  This among us flipbook is awesome\n",
       "1098  AmongUsCompetitive  How would a crewmate get out of a false self-r...\n",
       "1099  AmongUsCompetitive                                  Pro league strats"
      ]
     },
     "execution_count": 13,
     "metadata": {},
     "output_type": "execute_result"
    }
   ],
   "source": [
    "all_data_df.tail()"
   ]
  },
  {
   "cell_type": "code",
   "execution_count": 14,
   "id": "1f67c1ce-181a-46f4-b0d7-a67d481eb9ec",
   "metadata": {},
   "outputs": [],
   "source": [
    "#print(all_data_df.loc[[627,628,629,630,631,632,633,634,635]])\n",
    "# Deleting some rows because it contained a vulgar word\n",
    "all_data_df.drop([628,629,630,631,632,633,634], inplace=True)"
   ]
  },
  {
   "cell_type": "code",
   "execution_count": 15,
   "id": "d54f4961-9034-47cd-8092-52ffd50464d2",
   "metadata": {},
   "outputs": [
    {
     "data": {
      "text/plain": [
       "(1093, 2)"
      ]
     },
     "execution_count": 15,
     "metadata": {},
     "output_type": "execute_result"
    }
   ],
   "source": [
    "all_data_df.shape"
   ]
  },
  {
   "cell_type": "code",
   "execution_count": 16,
   "id": "cdfff1cb-9266-4dbf-8f7f-e2b892981014",
   "metadata": {},
   "outputs": [],
   "source": [
    "all_data_df.reset_index(drop=True, inplace=True)"
   ]
  },
  {
   "cell_type": "code",
   "execution_count": 17,
   "id": "01675d01-655c-4898-a923-7042ba81070a",
   "metadata": {},
   "outputs": [
    {
     "data": {
      "text/plain": [
       "(1093, 2)"
      ]
     },
     "execution_count": 17,
     "metadata": {},
     "output_type": "execute_result"
    }
   ],
   "source": [
    "all_data_df.shape"
   ]
  },
  {
   "cell_type": "code",
   "execution_count": 18,
   "id": "68799b9b-2dd7-4b7c-bce5-8293a774d792",
   "metadata": {},
   "outputs": [
    {
     "data": {
      "text/html": [
       "<div>\n",
       "<style scoped>\n",
       "    .dataframe tbody tr th:only-of-type {\n",
       "        vertical-align: middle;\n",
       "    }\n",
       "\n",
       "    .dataframe tbody tr th {\n",
       "        vertical-align: top;\n",
       "    }\n",
       "\n",
       "    .dataframe thead th {\n",
       "        text-align: right;\n",
       "    }\n",
       "</style>\n",
       "<table border=\"1\" class=\"dataframe\">\n",
       "  <thead>\n",
       "    <tr style=\"text-align: right;\">\n",
       "      <th></th>\n",
       "      <th>subreddit</th>\n",
       "      <th>title</th>\n",
       "    </tr>\n",
       "  </thead>\n",
       "  <tbody>\n",
       "    <tr>\n",
       "      <th>628</th>\n",
       "      <td>AmongUsCompetitive</td>\n",
       "      <td>speedrun also subsribe https://www.youtube.com...</td>\n",
       "    </tr>\n",
       "  </tbody>\n",
       "</table>\n",
       "</div>"
      ],
      "text/plain": [
       "              subreddit                                              title\n",
       "628  AmongUsCompetitive  speedrun also subsribe https://www.youtube.com..."
      ]
     },
     "execution_count": 18,
     "metadata": {},
     "output_type": "execute_result"
    }
   ],
   "source": [
    "all_data_df.loc[[628]]"
   ]
  },
  {
   "cell_type": "code",
   "execution_count": 19,
   "id": "7a0eea56-bb6c-42b5-8850-bd86cd566c83",
   "metadata": {},
   "outputs": [
    {
     "data": {
      "text/html": [
       "<div>\n",
       "<style scoped>\n",
       "    .dataframe tbody tr th:only-of-type {\n",
       "        vertical-align: middle;\n",
       "    }\n",
       "\n",
       "    .dataframe tbody tr th {\n",
       "        vertical-align: top;\n",
       "    }\n",
       "\n",
       "    .dataframe thead th {\n",
       "        text-align: right;\n",
       "    }\n",
       "</style>\n",
       "<table border=\"1\" class=\"dataframe\">\n",
       "  <thead>\n",
       "    <tr style=\"text-align: right;\">\n",
       "      <th></th>\n",
       "      <th>subreddit</th>\n",
       "      <th>title</th>\n",
       "    </tr>\n",
       "  </thead>\n",
       "  <tbody>\n",
       "    <tr>\n",
       "      <th>629</th>\n",
       "      <td>AmongUsCompetitive</td>\n",
       "      <td>Be like this.catch the impostors.theyll always...</td>\n",
       "    </tr>\n",
       "  </tbody>\n",
       "</table>\n",
       "</div>"
      ],
      "text/plain": [
       "              subreddit                                              title\n",
       "629  AmongUsCompetitive  Be like this.catch the impostors.theyll always..."
      ]
     },
     "execution_count": 19,
     "metadata": {},
     "output_type": "execute_result"
    }
   ],
   "source": [
    "all_data_df.loc[[629]]"
   ]
  },
  {
   "cell_type": "code",
   "execution_count": 20,
   "id": "2c0c4e08-baa1-4629-80ec-fa7194b305d4",
   "metadata": {},
   "outputs": [
    {
     "data": {
      "text/html": [
       "<div>\n",
       "<style scoped>\n",
       "    .dataframe tbody tr th:only-of-type {\n",
       "        vertical-align: middle;\n",
       "    }\n",
       "\n",
       "    .dataframe tbody tr th {\n",
       "        vertical-align: top;\n",
       "    }\n",
       "\n",
       "    .dataframe thead th {\n",
       "        text-align: right;\n",
       "    }\n",
       "</style>\n",
       "<table border=\"1\" class=\"dataframe\">\n",
       "  <thead>\n",
       "    <tr style=\"text-align: right;\">\n",
       "      <th></th>\n",
       "      <th>subreddit</th>\n",
       "      <th>title</th>\n",
       "    </tr>\n",
       "  </thead>\n",
       "  <tbody>\n",
       "    <tr>\n",
       "      <th>630</th>\n",
       "      <td>AmongUsCompetitive</td>\n",
       "      <td>Imposter partner gets caught... no problem</td>\n",
       "    </tr>\n",
       "  </tbody>\n",
       "</table>\n",
       "</div>"
      ],
      "text/plain": [
       "              subreddit                                       title\n",
       "630  AmongUsCompetitive  Imposter partner gets caught... no problem"
      ]
     },
     "execution_count": 20,
     "metadata": {},
     "output_type": "execute_result"
    }
   ],
   "source": [
    "all_data_df.loc[[630]]"
   ]
  },
  {
   "cell_type": "code",
   "execution_count": 21,
   "id": "ef900b75-d738-4dfb-b4fd-17b283740c23",
   "metadata": {},
   "outputs": [
    {
     "data": {
      "text/html": [
       "<div>\n",
       "<style scoped>\n",
       "    .dataframe tbody tr th:only-of-type {\n",
       "        vertical-align: middle;\n",
       "    }\n",
       "\n",
       "    .dataframe tbody tr th {\n",
       "        vertical-align: top;\n",
       "    }\n",
       "\n",
       "    .dataframe thead th {\n",
       "        text-align: right;\n",
       "    }\n",
       "</style>\n",
       "<table border=\"1\" class=\"dataframe\">\n",
       "  <thead>\n",
       "    <tr style=\"text-align: right;\">\n",
       "      <th></th>\n",
       "      <th>subreddit</th>\n",
       "      <th>title</th>\n",
       "    </tr>\n",
       "  </thead>\n",
       "  <tbody>\n",
       "    <tr>\n",
       "      <th>631</th>\n",
       "      <td>AmongUsCompetitive</td>\n",
       "      <td>Craziest Desync Kill - Steve Kills DumbDog? Wh...</td>\n",
       "    </tr>\n",
       "  </tbody>\n",
       "</table>\n",
       "</div>"
      ],
      "text/plain": [
       "              subreddit                                              title\n",
       "631  AmongUsCompetitive  Craziest Desync Kill - Steve Kills DumbDog? Wh..."
      ]
     },
     "execution_count": 21,
     "metadata": {},
     "output_type": "execute_result"
    }
   ],
   "source": [
    "all_data_df.loc[[631]]"
   ]
  },
  {
   "cell_type": "code",
   "execution_count": 22,
   "id": "e67624e2-42c6-4e58-95d1-879eab8d952f",
   "metadata": {},
   "outputs": [
    {
     "data": {
      "text/html": [
       "<div>\n",
       "<style scoped>\n",
       "    .dataframe tbody tr th:only-of-type {\n",
       "        vertical-align: middle;\n",
       "    }\n",
       "\n",
       "    .dataframe tbody tr th {\n",
       "        vertical-align: top;\n",
       "    }\n",
       "\n",
       "    .dataframe thead th {\n",
       "        text-align: right;\n",
       "    }\n",
       "</style>\n",
       "<table border=\"1\" class=\"dataframe\">\n",
       "  <thead>\n",
       "    <tr style=\"text-align: right;\">\n",
       "      <th></th>\n",
       "      <th>subreddit</th>\n",
       "      <th>title</th>\n",
       "    </tr>\n",
       "  </thead>\n",
       "  <tbody>\n",
       "    <tr>\n",
       "      <th>632</th>\n",
       "      <td>AmongUsCompetitive</td>\n",
       "      <td>Among Us *BUT* I'm Lil Baby</td>\n",
       "    </tr>\n",
       "  </tbody>\n",
       "</table>\n",
       "</div>"
      ],
      "text/plain": [
       "              subreddit                        title\n",
       "632  AmongUsCompetitive  Among Us *BUT* I'm Lil Baby"
      ]
     },
     "execution_count": 22,
     "metadata": {},
     "output_type": "execute_result"
    }
   ],
   "source": [
    "all_data_df.loc[[632]]"
   ]
  },
  {
   "cell_type": "code",
   "execution_count": 23,
   "id": "7c4637fa-e303-4736-ab28-ea82711e729e",
   "metadata": {},
   "outputs": [
    {
     "data": {
      "text/html": [
       "<div>\n",
       "<style scoped>\n",
       "    .dataframe tbody tr th:only-of-type {\n",
       "        vertical-align: middle;\n",
       "    }\n",
       "\n",
       "    .dataframe tbody tr th {\n",
       "        vertical-align: top;\n",
       "    }\n",
       "\n",
       "    .dataframe thead th {\n",
       "        text-align: right;\n",
       "    }\n",
       "</style>\n",
       "<table border=\"1\" class=\"dataframe\">\n",
       "  <thead>\n",
       "    <tr style=\"text-align: right;\">\n",
       "      <th></th>\n",
       "      <th>subreddit</th>\n",
       "      <th>title</th>\n",
       "    </tr>\n",
       "  </thead>\n",
       "  <tbody>\n",
       "    <tr>\n",
       "      <th>633</th>\n",
       "      <td>AmongUsCompetitive</td>\n",
       "      <td>7 Among Us Tips And Tricks To Make You A 1500 ...</td>\n",
       "    </tr>\n",
       "  </tbody>\n",
       "</table>\n",
       "</div>"
      ],
      "text/plain": [
       "              subreddit                                              title\n",
       "633  AmongUsCompetitive  7 Among Us Tips And Tricks To Make You A 1500 ..."
      ]
     },
     "execution_count": 23,
     "metadata": {},
     "output_type": "execute_result"
    }
   ],
   "source": [
    "all_data_df.loc[[633]]"
   ]
  },
  {
   "cell_type": "code",
   "execution_count": 24,
   "id": "0818b997-9d16-4517-8030-b54b3cd49774",
   "metadata": {},
   "outputs": [
    {
     "data": {
      "text/html": [
       "<div>\n",
       "<style scoped>\n",
       "    .dataframe tbody tr th:only-of-type {\n",
       "        vertical-align: middle;\n",
       "    }\n",
       "\n",
       "    .dataframe tbody tr th {\n",
       "        vertical-align: top;\n",
       "    }\n",
       "\n",
       "    .dataframe thead th {\n",
       "        text-align: right;\n",
       "    }\n",
       "</style>\n",
       "<table border=\"1\" class=\"dataframe\">\n",
       "  <thead>\n",
       "    <tr style=\"text-align: right;\">\n",
       "      <th></th>\n",
       "      <th>subreddit</th>\n",
       "      <th>title</th>\n",
       "    </tr>\n",
       "  </thead>\n",
       "  <tbody>\n",
       "    <tr>\n",
       "      <th>634</th>\n",
       "      <td>AmongUsCompetitive</td>\n",
       "      <td>Lady Dimitrescu As A Impostor (Among Us Meme)</td>\n",
       "    </tr>\n",
       "  </tbody>\n",
       "</table>\n",
       "</div>"
      ],
      "text/plain": [
       "              subreddit                                          title\n",
       "634  AmongUsCompetitive  Lady Dimitrescu As A Impostor (Among Us Meme)"
      ]
     },
     "execution_count": 24,
     "metadata": {},
     "output_type": "execute_result"
    }
   ],
   "source": [
    "all_data_df.loc[[634]]"
   ]
  },
  {
   "cell_type": "markdown",
   "id": "335bb76a-40e8-4cc7-b1fc-e8b822e29201",
   "metadata": {},
   "source": [
    "## Saving it as a CSV File\n",
    "---"
   ]
  },
  {
   "cell_type": "code",
   "execution_count": 25,
   "id": "b517e76e-1aeb-487e-86db-6a455efa5ea0",
   "metadata": {},
   "outputs": [],
   "source": [
    "all_data_df.to_csv('../datasets/AmongUs_Competitive.csv', index=False)"
   ]
  },
  {
   "cell_type": "markdown",
   "id": "7300d151-20e6-43cf-aafc-1e5f5f869d86",
   "metadata": {},
   "source": [
    "### Checking the CSV"
   ]
  },
  {
   "cell_type": "code",
   "execution_count": 26,
   "id": "d82f8ae6-adf5-4279-b45e-e7442c040cd4",
   "metadata": {},
   "outputs": [],
   "source": [
    "read = pd.read_csv('../datasets/AmongUs_Competitive.csv')"
   ]
  },
  {
   "cell_type": "code",
   "execution_count": 27,
   "id": "aa739327-23cd-47c2-a39b-b5ea0632b2f6",
   "metadata": {},
   "outputs": [
    {
     "data": {
      "text/html": [
       "<div>\n",
       "<style scoped>\n",
       "    .dataframe tbody tr th:only-of-type {\n",
       "        vertical-align: middle;\n",
       "    }\n",
       "\n",
       "    .dataframe tbody tr th {\n",
       "        vertical-align: top;\n",
       "    }\n",
       "\n",
       "    .dataframe thead th {\n",
       "        text-align: right;\n",
       "    }\n",
       "</style>\n",
       "<table border=\"1\" class=\"dataframe\">\n",
       "  <thead>\n",
       "    <tr style=\"text-align: right;\">\n",
       "      <th></th>\n",
       "      <th>subreddit</th>\n",
       "      <th>title</th>\n",
       "    </tr>\n",
       "  </thead>\n",
       "  <tbody>\n",
       "    <tr>\n",
       "      <th>0</th>\n",
       "      <td>AmongUsCompetitive</td>\n",
       "      <td>COPS vs ROBBERS *minigame* (Among us) Part 7</td>\n",
       "    </tr>\n",
       "    <tr>\n",
       "      <th>1</th>\n",
       "      <td>AmongUsCompetitive</td>\n",
       "      <td>Cops VS Robbers (Among Us) No Commentary Part 2</td>\n",
       "    </tr>\n",
       "    <tr>\n",
       "      <th>2</th>\n",
       "      <td>AmongUsCompetitive</td>\n",
       "      <td>CAUGHT THE IMPOSTOR IN MR BEAST TIKTOK VIDEO (...</td>\n",
       "    </tr>\n",
       "    <tr>\n",
       "      <th>3</th>\n",
       "      <td>AmongUsCompetitive</td>\n",
       "      <td>Among Us : The crew has no face to go out with...</td>\n",
       "    </tr>\n",
       "    <tr>\n",
       "      <th>4</th>\n",
       "      <td>AmongUsCompetitive</td>\n",
       "      <td>Among us Zombie Highlights Part 9</td>\n",
       "    </tr>\n",
       "  </tbody>\n",
       "</table>\n",
       "</div>"
      ],
      "text/plain": [
       "            subreddit                                              title\n",
       "0  AmongUsCompetitive       COPS vs ROBBERS *minigame* (Among us) Part 7\n",
       "1  AmongUsCompetitive    Cops VS Robbers (Among Us) No Commentary Part 2\n",
       "2  AmongUsCompetitive  CAUGHT THE IMPOSTOR IN MR BEAST TIKTOK VIDEO (...\n",
       "3  AmongUsCompetitive  Among Us : The crew has no face to go out with...\n",
       "4  AmongUsCompetitive                  Among us Zombie Highlights Part 9"
      ]
     },
     "execution_count": 27,
     "metadata": {},
     "output_type": "execute_result"
    }
   ],
   "source": [
    "read.head()"
   ]
  },
  {
   "cell_type": "code",
   "execution_count": 28,
   "id": "d06a1903-770f-4da9-ac05-ceea6784cc25",
   "metadata": {},
   "outputs": [
    {
     "data": {
      "text/html": [
       "<div>\n",
       "<style scoped>\n",
       "    .dataframe tbody tr th:only-of-type {\n",
       "        vertical-align: middle;\n",
       "    }\n",
       "\n",
       "    .dataframe tbody tr th {\n",
       "        vertical-align: top;\n",
       "    }\n",
       "\n",
       "    .dataframe thead th {\n",
       "        text-align: right;\n",
       "    }\n",
       "</style>\n",
       "<table border=\"1\" class=\"dataframe\">\n",
       "  <thead>\n",
       "    <tr style=\"text-align: right;\">\n",
       "      <th></th>\n",
       "      <th>subreddit</th>\n",
       "      <th>title</th>\n",
       "    </tr>\n",
       "  </thead>\n",
       "  <tbody>\n",
       "    <tr>\n",
       "      <th>1088</th>\n",
       "      <td>AmongUsCompetitive</td>\n",
       "      <td>When the</td>\n",
       "    </tr>\n",
       "    <tr>\n",
       "      <th>1089</th>\n",
       "      <td>AmongUsCompetitive</td>\n",
       "      <td>when</td>\n",
       "    </tr>\n",
       "    <tr>\n",
       "      <th>1090</th>\n",
       "      <td>AmongUsCompetitive</td>\n",
       "      <td>This among us flipbook is awesome</td>\n",
       "    </tr>\n",
       "    <tr>\n",
       "      <th>1091</th>\n",
       "      <td>AmongUsCompetitive</td>\n",
       "      <td>How would a crewmate get out of a false self-r...</td>\n",
       "    </tr>\n",
       "    <tr>\n",
       "      <th>1092</th>\n",
       "      <td>AmongUsCompetitive</td>\n",
       "      <td>Pro league strats</td>\n",
       "    </tr>\n",
       "  </tbody>\n",
       "</table>\n",
       "</div>"
      ],
      "text/plain": [
       "               subreddit                                              title\n",
       "1088  AmongUsCompetitive                                           When the\n",
       "1089  AmongUsCompetitive                                               when\n",
       "1090  AmongUsCompetitive                  This among us flipbook is awesome\n",
       "1091  AmongUsCompetitive  How would a crewmate get out of a false self-r...\n",
       "1092  AmongUsCompetitive                                  Pro league strats"
      ]
     },
     "execution_count": 28,
     "metadata": {},
     "output_type": "execute_result"
    }
   ],
   "source": [
    "read.tail()"
   ]
  }
 ],
 "metadata": {
  "kernelspec": {
   "display_name": "Python 3",
   "language": "python",
   "name": "python3"
  },
  "language_info": {
   "codemirror_mode": {
    "name": "ipython",
    "version": 3
   },
   "file_extension": ".py",
   "mimetype": "text/x-python",
   "name": "python",
   "nbconvert_exporter": "python",
   "pygments_lexer": "ipython3",
   "version": "3.8.8"
  }
 },
 "nbformat": 4,
 "nbformat_minor": 5
}
