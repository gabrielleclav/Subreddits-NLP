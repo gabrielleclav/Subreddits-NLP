{
 "cells": [
  {
   "cell_type": "markdown",
   "id": "80217110-1eb4-4615-9810-d343e3b70124",
   "metadata": {},
   "source": [
    "## EDA on both Datasets\n",
    "---"
   ]
  },
  {
   "cell_type": "markdown",
   "id": "8605c416-5327-43fb-bb85-c859900a09fc",
   "metadata": {},
   "source": [
    "#### Importing necessary libraries and reading in the Datasets"
   ]
  },
  {
   "cell_type": "code",
   "execution_count": 1,
   "id": "5d5259a0-9dfd-4a08-be33-fbdff645d5e4",
   "metadata": {},
   "outputs": [],
   "source": [
    "import pandas as pd\n",
    "import numpy as np\n",
    "import matplotlib.pyplot as plt\n",
    "import seaborn as sns "
   ]
  },
  {
   "cell_type": "code",
   "execution_count": 2,
   "id": "619729fd-aae5-4dba-8f27-17247313f61a",
   "metadata": {},
   "outputs": [],
   "source": [
    "amongus_comp = pd.read_csv('../datasets/AmongUs_Competitive.csv')\n",
    "amongus_memes = pd.read_csv('../datasets/AmongUs_Memes.csv')"
   ]
  },
  {
   "cell_type": "markdown",
   "id": "1bcc90eb-c2fb-4665-be15-b8c44e107647",
   "metadata": {},
   "source": [
    "### Checking the Datasets\n",
    "---"
   ]
  },
  {
   "cell_type": "code",
   "execution_count": 3,
   "id": "7e6317d7-fb5e-466b-a18c-fdf53ed2d383",
   "metadata": {},
   "outputs": [
    {
     "data": {
      "text/html": [
       "<div>\n",
       "<style scoped>\n",
       "    .dataframe tbody tr th:only-of-type {\n",
       "        vertical-align: middle;\n",
       "    }\n",
       "\n",
       "    .dataframe tbody tr th {\n",
       "        vertical-align: top;\n",
       "    }\n",
       "\n",
       "    .dataframe thead th {\n",
       "        text-align: right;\n",
       "    }\n",
       "</style>\n",
       "<table border=\"1\" class=\"dataframe\">\n",
       "  <thead>\n",
       "    <tr style=\"text-align: right;\">\n",
       "      <th></th>\n",
       "      <th>subreddit</th>\n",
       "      <th>title</th>\n",
       "    </tr>\n",
       "  </thead>\n",
       "  <tbody>\n",
       "    <tr>\n",
       "      <th>0</th>\n",
       "      <td>AmongUsCompetitive</td>\n",
       "      <td>COPS vs ROBBERS *minigame* (Among us) Part 7</td>\n",
       "    </tr>\n",
       "    <tr>\n",
       "      <th>1</th>\n",
       "      <td>AmongUsCompetitive</td>\n",
       "      <td>Cops VS Robbers (Among Us) No Commentary Part 2</td>\n",
       "    </tr>\n",
       "    <tr>\n",
       "      <th>2</th>\n",
       "      <td>AmongUsCompetitive</td>\n",
       "      <td>CAUGHT THE IMPOSTOR IN MR BEAST TIKTOK VIDEO (...</td>\n",
       "    </tr>\n",
       "    <tr>\n",
       "      <th>3</th>\n",
       "      <td>AmongUsCompetitive</td>\n",
       "      <td>Among Us : The crew has no face to go out with...</td>\n",
       "    </tr>\n",
       "    <tr>\n",
       "      <th>4</th>\n",
       "      <td>AmongUsCompetitive</td>\n",
       "      <td>Among us Zombie Highlights Part 9</td>\n",
       "    </tr>\n",
       "  </tbody>\n",
       "</table>\n",
       "</div>"
      ],
      "text/plain": [
       "            subreddit                                              title\n",
       "0  AmongUsCompetitive       COPS vs ROBBERS *minigame* (Among us) Part 7\n",
       "1  AmongUsCompetitive    Cops VS Robbers (Among Us) No Commentary Part 2\n",
       "2  AmongUsCompetitive  CAUGHT THE IMPOSTOR IN MR BEAST TIKTOK VIDEO (...\n",
       "3  AmongUsCompetitive  Among Us : The crew has no face to go out with...\n",
       "4  AmongUsCompetitive                  Among us Zombie Highlights Part 9"
      ]
     },
     "execution_count": 3,
     "metadata": {},
     "output_type": "execute_result"
    }
   ],
   "source": [
    "amongus_comp.head()"
   ]
  },
  {
   "cell_type": "code",
   "execution_count": 4,
   "id": "1ebcb15a-0c09-4db1-85ae-c64ed011253a",
   "metadata": {},
   "outputs": [
    {
     "data": {
      "text/html": [
       "<div>\n",
       "<style scoped>\n",
       "    .dataframe tbody tr th:only-of-type {\n",
       "        vertical-align: middle;\n",
       "    }\n",
       "\n",
       "    .dataframe tbody tr th {\n",
       "        vertical-align: top;\n",
       "    }\n",
       "\n",
       "    .dataframe thead th {\n",
       "        text-align: right;\n",
       "    }\n",
       "</style>\n",
       "<table border=\"1\" class=\"dataframe\">\n",
       "  <thead>\n",
       "    <tr style=\"text-align: right;\">\n",
       "      <th></th>\n",
       "      <th>subreddit</th>\n",
       "      <th>title</th>\n",
       "    </tr>\n",
       "  </thead>\n",
       "  <tbody>\n",
       "    <tr>\n",
       "      <th>0</th>\n",
       "      <td>AmongUsMemes</td>\n",
       "      <td>It’s dead but it still haunts me</td>\n",
       "    </tr>\n",
       "    <tr>\n",
       "      <th>1</th>\n",
       "      <td>AmongUsMemes</td>\n",
       "      <td>The lamp was casting this shape on the wall</td>\n",
       "    </tr>\n",
       "    <tr>\n",
       "      <th>2</th>\n",
       "      <td>AmongUsMemes</td>\n",
       "      <td>OMGJGIHNIMADMATGNA (OH MY GOD. JERALD GET IN H...</td>\n",
       "    </tr>\n",
       "    <tr>\n",
       "      <th>3</th>\n",
       "      <td>AmongUsMemes</td>\n",
       "      <td>“An emergency meeting was called” (reuploaded)</td>\n",
       "    </tr>\n",
       "    <tr>\n",
       "      <th>4</th>\n",
       "      <td>AmongUsMemes</td>\n",
       "      <td>When Henry is sus</td>\n",
       "    </tr>\n",
       "  </tbody>\n",
       "</table>\n",
       "</div>"
      ],
      "text/plain": [
       "      subreddit                                              title\n",
       "0  AmongUsMemes                   It’s dead but it still haunts me\n",
       "1  AmongUsMemes        The lamp was casting this shape on the wall\n",
       "2  AmongUsMemes  OMGJGIHNIMADMATGNA (OH MY GOD. JERALD GET IN H...\n",
       "3  AmongUsMemes     “An emergency meeting was called” (reuploaded)\n",
       "4  AmongUsMemes                                  When Henry is sus"
      ]
     },
     "execution_count": 4,
     "metadata": {},
     "output_type": "execute_result"
    }
   ],
   "source": [
    "amongus_memes.head()"
   ]
  },
  {
   "cell_type": "code",
   "execution_count": 5,
   "id": "265675be-9b59-41ae-951b-281976a17824",
   "metadata": {},
   "outputs": [
    {
     "name": "stdout",
     "output_type": "stream",
     "text": [
      "Among Us Competitive shape: (1093, 2)\n",
      "Among Us Memes shape: (1093, 2)\n"
     ]
    }
   ],
   "source": [
    "print(f'Among Us Competitive shape: {amongus_comp.shape}')\n",
    "print(f'Among Us Memes shape: {amongus_memes.shape}')"
   ]
  },
  {
   "cell_type": "markdown",
   "id": "9508f348-a5d6-4c04-9a80-986fa0cae746",
   "metadata": {},
   "source": [
    "### Checking Among Us Competitive "
   ]
  },
  {
   "cell_type": "code",
   "execution_count": 6,
   "id": "66a0e5eb-4baa-4450-972a-f1bb1bed9652",
   "metadata": {},
   "outputs": [
    {
     "data": {
      "text/plain": [
       "subreddit    0\n",
       "title        0\n",
       "dtype: int64"
      ]
     },
     "execution_count": 6,
     "metadata": {},
     "output_type": "execute_result"
    }
   ],
   "source": [
    "#Checking to see if there is any null values\n",
    "amongus_comp.isnull().sum()"
   ]
  },
  {
   "cell_type": "code",
   "execution_count": 7,
   "id": "fe527185-e14c-4ca8-b59c-0db3aa7ca2d3",
   "metadata": {},
   "outputs": [
    {
     "data": {
      "text/html": [
       "<div>\n",
       "<style scoped>\n",
       "    .dataframe tbody tr th:only-of-type {\n",
       "        vertical-align: middle;\n",
       "    }\n",
       "\n",
       "    .dataframe tbody tr th {\n",
       "        vertical-align: top;\n",
       "    }\n",
       "\n",
       "    .dataframe thead th {\n",
       "        text-align: right;\n",
       "    }\n",
       "</style>\n",
       "<table border=\"1\" class=\"dataframe\">\n",
       "  <thead>\n",
       "    <tr style=\"text-align: right;\">\n",
       "      <th></th>\n",
       "      <th>subreddit</th>\n",
       "      <th>title</th>\n",
       "    </tr>\n",
       "  </thead>\n",
       "  <tbody>\n",
       "    <tr>\n",
       "      <th>count</th>\n",
       "      <td>1093</td>\n",
       "      <td>1093</td>\n",
       "    </tr>\n",
       "    <tr>\n",
       "      <th>unique</th>\n",
       "      <td>1</td>\n",
       "      <td>1055</td>\n",
       "    </tr>\n",
       "    <tr>\n",
       "      <th>top</th>\n",
       "      <td>AmongUsCompetitive</td>\n",
       "      <td>Among us hide and seek</td>\n",
       "    </tr>\n",
       "    <tr>\n",
       "      <th>freq</th>\n",
       "      <td>1093</td>\n",
       "      <td>4</td>\n",
       "    </tr>\n",
       "  </tbody>\n",
       "</table>\n",
       "</div>"
      ],
      "text/plain": [
       "                 subreddit                   title\n",
       "count                 1093                    1093\n",
       "unique                   1                    1055\n",
       "top     AmongUsCompetitive  Among us hide and seek\n",
       "freq                  1093                       4"
      ]
     },
     "execution_count": 7,
     "metadata": {},
     "output_type": "execute_result"
    }
   ],
   "source": [
    "#Checking the Stats \n",
    "amongus_comp.describe()"
   ]
  },
  {
   "cell_type": "code",
   "execution_count": 8,
   "id": "d80c300e-21d1-40c9-aa96-03db035a52d4",
   "metadata": {},
   "outputs": [
    {
     "data": {
      "text/html": [
       "<div>\n",
       "<style scoped>\n",
       "    .dataframe tbody tr th:only-of-type {\n",
       "        vertical-align: middle;\n",
       "    }\n",
       "\n",
       "    .dataframe tbody tr th {\n",
       "        vertical-align: top;\n",
       "    }\n",
       "\n",
       "    .dataframe thead th {\n",
       "        text-align: right;\n",
       "    }\n",
       "</style>\n",
       "<table border=\"1\" class=\"dataframe\">\n",
       "  <thead>\n",
       "    <tr style=\"text-align: right;\">\n",
       "      <th></th>\n",
       "      <th>subreddit</th>\n",
       "      <th>title</th>\n",
       "    </tr>\n",
       "  </thead>\n",
       "  <tbody>\n",
       "    <tr>\n",
       "      <th>516</th>\n",
       "      <td>AmongUsCompetitive</td>\n",
       "      <td>\"Competitive 3 Solo Impostor Mode\" is getting ...</td>\n",
       "    </tr>\n",
       "    <tr>\n",
       "      <th>517</th>\n",
       "      <td>AmongUsCompetitive</td>\n",
       "      <td>\"Competitive 3 Solo Impostor Mode\" is getting ...</td>\n",
       "    </tr>\n",
       "    <tr>\n",
       "      <th>541</th>\n",
       "      <td>AmongUsCompetitive</td>\n",
       "      <td>\"ONLY\" \"CREW\" return to finish their task afte...</td>\n",
       "    </tr>\n",
       "    <tr>\n",
       "      <th>654</th>\n",
       "      <td>AmongUsCompetitive</td>\n",
       "      <td>#AmongUs</td>\n",
       "    </tr>\n",
       "    <tr>\n",
       "      <th>865</th>\n",
       "      <td>AmongUsCompetitive</td>\n",
       "      <td>(Detective work) - The hardest way to hard clear:</td>\n",
       "    </tr>\n",
       "    <tr>\n",
       "      <th>...</th>\n",
       "      <td>...</td>\n",
       "      <td>...</td>\n",
       "    </tr>\n",
       "    <tr>\n",
       "      <th>888</th>\n",
       "      <td>AmongUsCompetitive</td>\n",
       "      <td>ЭТА ИГРА ЛУЧШЕ ЭМОНГ АС | ЛУЧШИЕ ПАРОДИИ AMONG...</td>\n",
       "    </tr>\n",
       "    <tr>\n",
       "      <th>601</th>\n",
       "      <td>AmongUsCompetitive</td>\n",
       "      <td>“Reverse Rat’s Gambit” baiting venters to kill...</td>\n",
       "    </tr>\n",
       "    <tr>\n",
       "      <th>215</th>\n",
       "      <td>AmongUsCompetitive</td>\n",
       "      <td>✅🔥 BEST AMONG US✅ HACK PC ✅NO BAN UNDETECTED✅🔥...</td>\n",
       "    </tr>\n",
       "    <tr>\n",
       "      <th>1050</th>\n",
       "      <td>AmongUsCompetitive</td>\n",
       "      <td>😳</td>\n",
       "    </tr>\n",
       "    <tr>\n",
       "      <th>626</th>\n",
       "      <td>AmongUsCompetitive</td>\n",
       "      <td>🤪🤪🤪🤪🤪</td>\n",
       "    </tr>\n",
       "  </tbody>\n",
       "</table>\n",
       "<p>1093 rows × 2 columns</p>\n",
       "</div>"
      ],
      "text/plain": [
       "               subreddit                                              title\n",
       "516   AmongUsCompetitive  \"Competitive 3 Solo Impostor Mode\" is getting ...\n",
       "517   AmongUsCompetitive  \"Competitive 3 Solo Impostor Mode\" is getting ...\n",
       "541   AmongUsCompetitive  \"ONLY\" \"CREW\" return to finish their task afte...\n",
       "654   AmongUsCompetitive                                           #AmongUs\n",
       "865   AmongUsCompetitive  (Detective work) - The hardest way to hard clear:\n",
       "...                  ...                                                ...\n",
       "888   AmongUsCompetitive  ЭТА ИГРА ЛУЧШЕ ЭМОНГ АС | ЛУЧШИЕ ПАРОДИИ AMONG...\n",
       "601   AmongUsCompetitive  “Reverse Rat’s Gambit” baiting venters to kill...\n",
       "215   AmongUsCompetitive  ✅🔥 BEST AMONG US✅ HACK PC ✅NO BAN UNDETECTED✅🔥...\n",
       "1050  AmongUsCompetitive                                                  😳\n",
       "626   AmongUsCompetitive                                              🤪🤪🤪🤪🤪\n",
       "\n",
       "[1093 rows x 2 columns]"
      ]
     },
     "execution_count": 8,
     "metadata": {},
     "output_type": "execute_result"
    }
   ],
   "source": [
    "#Sort the values by title in ascending order \n",
    "amongus_comp.sort_values(by='title')"
   ]
  },
  {
   "cell_type": "code",
   "execution_count": 9,
   "id": "f695b5a1-2865-4d1a-80ea-6f973a27aab6",
   "metadata": {},
   "outputs": [
    {
     "data": {
      "text/plain": [
       "subreddit           title                                                                                  \n",
       "AmongUsCompetitive  Among Us                                                                                   4\n",
       "                    Among us hide and seek                                                                     4\n",
       "                    Sus                                                                                        3\n",
       "                    Where can I find a list of visual tasks of the airship?                                    2\n",
       "                    High Risk, High reward Admin camping position                                              2\n",
       "                                                                                                              ..\n",
       "                    Fake Medbay Scan strat (Polus) and a beginner mistake that can get you caught round one    1\n",
       "                    Faking Medbay Scan Walk | Among Us - Sina                                                  1\n",
       "                    Fastest ban in among us..world record                                                      1\n",
       "                    Fatal Combo                                                                                1\n",
       "                    🤪🤪🤪🤪🤪                                                                                      1\n",
       "Length: 1055, dtype: int64"
      ]
     },
     "execution_count": 9,
     "metadata": {},
     "output_type": "execute_result"
    }
   ],
   "source": [
    "#Checking which titles are unique and what is used the most as a title\n",
    "amongus_comp.value_counts()"
   ]
  },
  {
   "cell_type": "code",
   "execution_count": 10,
   "id": "392e95d3-9932-48be-a665-7aa1f77072b1",
   "metadata": {},
   "outputs": [
    {
     "data": {
      "text/plain": [
       "title    49\n",
       "dtype: int64"
      ]
     },
     "execution_count": 10,
     "metadata": {},
     "output_type": "execute_result"
    }
   ],
   "source": [
    "#Checking if any word in the title contains sus\n",
    "amongus_comp[['title']].loc[amongus_comp['title'].str.lower().str.contains('sus')].count()"
   ]
  },
  {
   "cell_type": "code",
   "execution_count": 11,
   "id": "47a8a664-9d11-4cce-bc13-3d5af996ebb3",
   "metadata": {},
   "outputs": [
    {
     "data": {
      "text/plain": [
       "title    3\n",
       "dtype: int64"
      ]
     },
     "execution_count": 11,
     "metadata": {},
     "output_type": "execute_result"
    }
   ],
   "source": [
    "amongus_comp[['title']].loc[amongus_comp['title'].str.lower().str.contains('sussy')].count()"
   ]
  },
  {
   "cell_type": "code",
   "execution_count": 12,
   "id": "625f19fb-5a94-4edf-a581-6ad979cac358",
   "metadata": {},
   "outputs": [
    {
     "data": {
      "text/plain": [
       "title    55\n",
       "dtype: int64"
      ]
     },
     "execution_count": 12,
     "metadata": {},
     "output_type": "execute_result"
    }
   ],
   "source": [
    "amongus_comp[['title']].loc[amongus_comp['title'].str.lower().str.contains('imposter')].count()"
   ]
  },
  {
   "cell_type": "code",
   "execution_count": 13,
   "id": "57f8ca8c-f3cc-4251-9692-c456dd4c7025",
   "metadata": {},
   "outputs": [
    {
     "data": {
      "text/plain": [
       "1055"
      ]
     },
     "execution_count": 13,
     "metadata": {},
     "output_type": "execute_result"
    }
   ],
   "source": [
    "#Just printing out how many unique values there are \n",
    "len(amongus_comp['title'].unique())"
   ]
  },
  {
   "cell_type": "markdown",
   "id": "5ebf85d3-7f18-4cc4-944d-f28de445c97d",
   "metadata": {},
   "source": [
    "### Checking Among Us Memes"
   ]
  },
  {
   "cell_type": "code",
   "execution_count": 14,
   "id": "fb8af2c5-c8ff-4d88-ba66-d7df2c0e39eb",
   "metadata": {},
   "outputs": [
    {
     "data": {
      "text/plain": [
       "subreddit    0\n",
       "title        0\n",
       "dtype: int64"
      ]
     },
     "execution_count": 14,
     "metadata": {},
     "output_type": "execute_result"
    }
   ],
   "source": [
    "amongus_memes.isnull().sum()"
   ]
  },
  {
   "cell_type": "code",
   "execution_count": 15,
   "id": "0e1e59a8-f6a5-4333-99e6-a2bc1b5942dc",
   "metadata": {},
   "outputs": [
    {
     "data": {
      "text/html": [
       "<div>\n",
       "<style scoped>\n",
       "    .dataframe tbody tr th:only-of-type {\n",
       "        vertical-align: middle;\n",
       "    }\n",
       "\n",
       "    .dataframe tbody tr th {\n",
       "        vertical-align: top;\n",
       "    }\n",
       "\n",
       "    .dataframe thead th {\n",
       "        text-align: right;\n",
       "    }\n",
       "</style>\n",
       "<table border=\"1\" class=\"dataframe\">\n",
       "  <thead>\n",
       "    <tr style=\"text-align: right;\">\n",
       "      <th></th>\n",
       "      <th>subreddit</th>\n",
       "      <th>title</th>\n",
       "    </tr>\n",
       "  </thead>\n",
       "  <tbody>\n",
       "    <tr>\n",
       "      <th>count</th>\n",
       "      <td>1093</td>\n",
       "      <td>1093</td>\n",
       "    </tr>\n",
       "    <tr>\n",
       "      <th>unique</th>\n",
       "      <td>1</td>\n",
       "      <td>1040</td>\n",
       "    </tr>\n",
       "    <tr>\n",
       "      <th>top</th>\n",
       "      <td>AmongUsMemes</td>\n",
       "      <td>Amogus</td>\n",
       "    </tr>\n",
       "    <tr>\n",
       "      <th>freq</th>\n",
       "      <td>1093</td>\n",
       "      <td>10</td>\n",
       "    </tr>\n",
       "  </tbody>\n",
       "</table>\n",
       "</div>"
      ],
      "text/plain": [
       "           subreddit   title\n",
       "count           1093    1093\n",
       "unique             1    1040\n",
       "top     AmongUsMemes  Amogus\n",
       "freq            1093      10"
      ]
     },
     "execution_count": 15,
     "metadata": {},
     "output_type": "execute_result"
    }
   ],
   "source": [
    "amongus_memes.describe()"
   ]
  },
  {
   "cell_type": "code",
   "execution_count": 16,
   "id": "cc1733cc-1002-468d-a357-b9500a8f7573",
   "metadata": {},
   "outputs": [
    {
     "data": {
      "text/html": [
       "<div>\n",
       "<style scoped>\n",
       "    .dataframe tbody tr th:only-of-type {\n",
       "        vertical-align: middle;\n",
       "    }\n",
       "\n",
       "    .dataframe tbody tr th {\n",
       "        vertical-align: top;\n",
       "    }\n",
       "\n",
       "    .dataframe thead th {\n",
       "        text-align: right;\n",
       "    }\n",
       "</style>\n",
       "<table border=\"1\" class=\"dataframe\">\n",
       "  <thead>\n",
       "    <tr style=\"text-align: right;\">\n",
       "      <th></th>\n",
       "      <th>subreddit</th>\n",
       "      <th>title</th>\n",
       "    </tr>\n",
       "  </thead>\n",
       "  <tbody>\n",
       "    <tr>\n",
       "      <th>131</th>\n",
       "      <td>AmongUsMemes</td>\n",
       "      <td>\"There won't be a home if we don't stop the Im...</td>\n",
       "    </tr>\n",
       "    <tr>\n",
       "      <th>303</th>\n",
       "      <td>AmongUsMemes</td>\n",
       "      <td>#ThirstTrap</td>\n",
       "    </tr>\n",
       "    <tr>\n",
       "      <th>349</th>\n",
       "      <td>AmongUsMemes</td>\n",
       "      <td>#TrendAlert</td>\n",
       "    </tr>\n",
       "    <tr>\n",
       "      <th>692</th>\n",
       "      <td>AmongUsMemes</td>\n",
       "      <td>(Insert obligatory “can’t think of a title” ti...</td>\n",
       "    </tr>\n",
       "    <tr>\n",
       "      <th>432</th>\n",
       "      <td>AmongUsMemes</td>\n",
       "      <td>(This actually happend)</td>\n",
       "    </tr>\n",
       "    <tr>\n",
       "      <th>...</th>\n",
       "      <td>...</td>\n",
       "      <td>...</td>\n",
       "    </tr>\n",
       "    <tr>\n",
       "      <th>3</th>\n",
       "      <td>AmongUsMemes</td>\n",
       "      <td>“An emergency meeting was called” (reuploaded)</td>\n",
       "    </tr>\n",
       "    <tr>\n",
       "      <th>174</th>\n",
       "      <td>AmongUsMemes</td>\n",
       "      <td>ㅤㅤㅤㅤㅤㅤ</td>\n",
       "    </tr>\n",
       "    <tr>\n",
       "      <th>359</th>\n",
       "      <td>AmongUsMemes</td>\n",
       "      <td>😳😳 Thats a bit sussy</td>\n",
       "    </tr>\n",
       "    <tr>\n",
       "      <th>1090</th>\n",
       "      <td>AmongUsMemes</td>\n",
       "      <td>😳😳😳😳😳😳</td>\n",
       "    </tr>\n",
       "    <tr>\n",
       "      <th>522</th>\n",
       "      <td>AmongUsMemes</td>\n",
       "      <td>😳😳😳😳😳😳😳😳😳😳</td>\n",
       "    </tr>\n",
       "  </tbody>\n",
       "</table>\n",
       "<p>1093 rows × 2 columns</p>\n",
       "</div>"
      ],
      "text/plain": [
       "         subreddit                                              title\n",
       "131   AmongUsMemes  \"There won't be a home if we don't stop the Im...\n",
       "303   AmongUsMemes                                        #ThirstTrap\n",
       "349   AmongUsMemes                                        #TrendAlert\n",
       "692   AmongUsMemes  (Insert obligatory “can’t think of a title” ti...\n",
       "432   AmongUsMemes                            (This actually happend)\n",
       "...            ...                                                ...\n",
       "3     AmongUsMemes     “An emergency meeting was called” (reuploaded)\n",
       "174   AmongUsMemes                                             ㅤㅤㅤㅤㅤㅤ\n",
       "359   AmongUsMemes                               😳😳 Thats a bit sussy\n",
       "1090  AmongUsMemes                                             😳😳😳😳😳😳\n",
       "522   AmongUsMemes                                         😳😳😳😳😳😳😳😳😳😳\n",
       "\n",
       "[1093 rows x 2 columns]"
      ]
     },
     "execution_count": 16,
     "metadata": {},
     "output_type": "execute_result"
    }
   ],
   "source": [
    "amongus_memes.sort_values(by='title')"
   ]
  },
  {
   "cell_type": "code",
   "execution_count": 17,
   "id": "8eb6b4a8-ba8b-4329-b2b6-23cb374a249f",
   "metadata": {},
   "outputs": [
    {
     "data": {
      "text/plain": [
       "subreddit     title                                                   \n",
       "AmongUsMemes  Amogus                                                      10\n",
       "              GET OUT OF MY HEAD                                           5\n",
       "              Did you know that the earth is standing on three amogus?     4\n",
       "              Amogus Megasus                                               4\n",
       "              When the weather is sus                                      3\n",
       "              amongus                                                      3\n",
       "              The Dragon Warrior is Among Us                               2\n",
       "              SUSSY ENERGRY DRINK                                          2\n",
       "              Did you know that the earth is standing on three amogus.     2\n",
       "              Anyone else feeling kinda sus?                               2\n",
       "dtype: int64"
      ]
     },
     "execution_count": 17,
     "metadata": {},
     "output_type": "execute_result"
    }
   ],
   "source": [
    "amongus_memes.value_counts().head(10)"
   ]
  },
  {
   "cell_type": "code",
   "execution_count": 18,
   "id": "315eb035-c68f-4fc1-b812-057882cdaf12",
   "metadata": {},
   "outputs": [
    {
     "data": {
      "text/plain": [
       "title    341\n",
       "dtype: int64"
      ]
     },
     "execution_count": 18,
     "metadata": {},
     "output_type": "execute_result"
    }
   ],
   "source": [
    "amongus_memes[['title']].loc[amongus_memes['title'].str.lower().str.contains('sus')].count()"
   ]
  },
  {
   "cell_type": "code",
   "execution_count": 19,
   "id": "192efa94-5132-45ee-be77-77b41657581a",
   "metadata": {},
   "outputs": [
    {
     "data": {
      "text/plain": [
       "title    62\n",
       "dtype: int64"
      ]
     },
     "execution_count": 19,
     "metadata": {},
     "output_type": "execute_result"
    }
   ],
   "source": [
    "amongus_memes[['title']].loc[amongus_memes['title'].str.lower().str.contains('sussy')].count()"
   ]
  },
  {
   "cell_type": "code",
   "execution_count": 20,
   "id": "fd307959-a327-45e6-ab8f-cf17a73087ed",
   "metadata": {},
   "outputs": [
    {
     "data": {
      "text/plain": [
       "title    49\n",
       "dtype: int64"
      ]
     },
     "execution_count": 20,
     "metadata": {},
     "output_type": "execute_result"
    }
   ],
   "source": [
    "amongus_memes[['title']].loc[amongus_memes['title'].str.lower().str.contains('imposter')].count()"
   ]
  },
  {
   "cell_type": "code",
   "execution_count": 21,
   "id": "5d2b9c1d-b1c2-4c76-a971-28acdc6d6093",
   "metadata": {},
   "outputs": [
    {
     "data": {
      "text/plain": [
       "1040"
      ]
     },
     "execution_count": 21,
     "metadata": {},
     "output_type": "execute_result"
    }
   ],
   "source": [
    "len(amongus_memes['title'].unique())"
   ]
  },
  {
   "cell_type": "markdown",
   "id": "362008d5-3f60-4700-88a1-a2e1afca0045",
   "metadata": {},
   "source": [
    "### Creating Functions to do Explanatory and Exploratory Anaylsis"
   ]
  },
  {
   "cell_type": "markdown",
   "id": "f0f15dd6-2a86-48dd-831b-a151f32ce02a",
   "metadata": {},
   "source": [
    "I am interested in getting the two last characters in the top 15 titles because I want to see if there are any emojicons for the memes subreddit, which I think is useful to know. As for the first and last words, I want to see if there is a difference in the two subreddits and how people write in these. "
   ]
  },
  {
   "cell_type": "code",
   "execution_count": 22,
   "id": "f6130fd6-90f2-48df-8f50-6f3d21947e54",
   "metadata": {},
   "outputs": [],
   "source": [
    "def get_two_last_chars(title):\n",
    "    '''\n",
    "    Retrieves the last two characters of the title\n",
    "    '''\n",
    "    return title[-2:]"
   ]
  },
  {
   "cell_type": "code",
   "execution_count": 23,
   "id": "1669b01a-5523-4551-a694-b92c454b8dc4",
   "metadata": {},
   "outputs": [],
   "source": [
    "def get_first_word(title):\n",
    "    '''\n",
    "    Retrieves the first word of the title\n",
    "    '''\n",
    "    return title.split()[0]"
   ]
  },
  {
   "cell_type": "code",
   "execution_count": 24,
   "id": "0ab2a6ac-24cb-4b5f-a9f6-ef75837e86e0",
   "metadata": {},
   "outputs": [],
   "source": [
    "def get_last_word(title):\n",
    "    '''\n",
    "    Retrieves the last word of the title\n",
    "    '''\n",
    "    return title.split()[-1]"
   ]
  },
  {
   "cell_type": "code",
   "execution_count": 25,
   "id": "b4c1b5d8-0721-4eb8-8b16-94509d300c80",
   "metadata": {},
   "outputs": [],
   "source": [
    "#To graph these results\n",
    "def plot_results(subreddit_df, function, funct_name, subreddit_name):\n",
    "    '''\n",
    "    Maps the title column in the subreddit_df to the function passed in. Then it creates a new \n",
    "    df of the mapping with the value counts of the sorted values in top 15 in descending order\n",
    "    for the most used, renaming the title to title count. It then creates a title for the bar \n",
    "    plot and rotates the xticks 40 degrees. It is plotted using seaborn with the x-axis \n",
    "    being the title count column and the y-axis the indices.\n",
    "    '''\n",
    "    amongus_res = subreddit_df['title'].map(function)\n",
    "    df = pd.DataFrame(amongus_res.value_counts().sort_values(ascending=False).head(15))\n",
    "    df.rename(columns={'title': 'Title Count'}, inplace=True)\n",
    "    title = funct_name + ' in the Titles in ' + subreddit_name + ' Subreddit(Most Used-- Top 15)'\n",
    "    plt.title(title)\n",
    "    plt.xticks(rotation=40)\n",
    "    #colors = ['grey' if x == max(df.index) else 'blue' for x in df.index]\n",
    "    #colors = ['grey' if (x < max(df.index)) else 'royalblue' for x in df.index]\n",
    "    sns.barplot(data=df, x='Title Count', y=df.index, color='royalblue');"
   ]
  },
  {
   "cell_type": "markdown",
   "id": "fbdd1ec2-c886-4209-95b6-652114601cb9",
   "metadata": {},
   "source": [
    "#### Get Two Last Characters"
   ]
  },
  {
   "cell_type": "code",
   "execution_count": 26,
   "id": "bb83d273-19bc-4788-9365-45ff3bff1f99",
   "metadata": {},
   "outputs": [
    {
     "data": {
      "text/plain": [
       "us    38\n",
       "ed    31\n",
       "es    25\n",
       "s?    23\n",
       "Us    22\n",
       "e?    22\n",
       "ng    21\n",
       "ts    19\n",
       "s.    16\n",
       "er    16\n",
       "s)    16\n",
       "r?    15\n",
       "on    14\n",
       "..    14\n",
       "n?    13\n",
       "Name: title, dtype: int64"
      ]
     },
     "execution_count": 26,
     "metadata": {},
     "output_type": "execute_result"
    }
   ],
   "source": [
    "last_two_chars_amongus_comp = amongus_comp['title'].map(get_two_last_chars)\n",
    "last_two_chars_amongus_comp.value_counts().sort_values(ascending=False).head(15)"
   ]
  },
  {
   "cell_type": "code",
   "execution_count": 27,
   "id": "ffeb95e6-554e-401f-bb0c-7f50e3ab8d72",
   "metadata": {},
   "outputs": [
    {
     "data": {
      "image/png": "[encoded data removed]",
      "text/plain": [
       "<Figure size 432x288 with 1 Axes>"
      ]
     },
     "metadata": {
      "needs_background": "light"
     },
     "output_type": "display_data"
    }
   ],
   "source": [
    "plot_results(amongus_comp, get_two_last_chars, 'Last Two Characters', 'Among Us Competitive')"
   ]
  },
  {
   "cell_type": "code",
   "execution_count": 28,
   "id": "656809f6-73ab-4da0-ac0c-3486c6db98a6",
   "metadata": {},
   "outputs": [
    {
     "data": {
      "text/plain": [
       "us    182\n",
       "..     40\n",
       "me     29\n",
       "er     25\n",
       "s.     22\n",
       "US     16\n",
       "it     15\n",
       "ed     14\n",
       "s?     14\n",
       "!!     13\n",
       "ka     13\n",
       "ng     13\n",
       "ay     12\n",
       " 😳     11\n",
       "Us     11\n",
       "Name: title, dtype: int64"
      ]
     },
     "execution_count": 28,
     "metadata": {},
     "output_type": "execute_result"
    }
   ],
   "source": [
    "last_two_chars_amongus_memes = amongus_memes['title'].map(get_two_last_chars)\n",
    "last_two_chars_amongus_memes.value_counts().sort_values(ascending=False).head(15)"
   ]
  },
  {
   "cell_type": "code",
   "execution_count": 29,
   "id": "2ecac89a-4fe0-4207-ab90-d96eae0e07b4",
   "metadata": {},
   "outputs": [
    {
     "data": {
      "image/png": "[encoded data removed]",
      "text/plain": [
       "<Figure size 432x288 with 1 Axes>"
      ]
     },
     "metadata": {
      "needs_background": "light"
     },
     "output_type": "display_data"
    }
   ],
   "source": [
    "plot_results(amongus_memes, get_two_last_chars, 'Last Two Characters', 'Among Us Memes')"
   ]
  },
  {
   "cell_type": "markdown",
   "id": "d153761d-c504-4428-9309-6719f55f0b64",
   "metadata": {},
   "source": [
    "#### Get First Word"
   ]
  },
  {
   "cell_type": "code",
   "execution_count": 30,
   "id": "e7518c49-ffb5-44f8-b209-a3ed5c42d9fa",
   "metadata": {},
   "outputs": [
    {
     "data": {
      "text/plain": [
       "Among      132\n",
       "How         48\n",
       "I           35\n",
       "What        24\n",
       "This        18\n",
       "Is          17\n",
       "The         17\n",
       "When        16\n",
       "TASK        15\n",
       "among       14\n",
       "My          13\n",
       "Why         12\n",
       "A           12\n",
       "AMONG       10\n",
       "Airship     10\n",
       "Name: title, dtype: int64"
      ]
     },
     "execution_count": 30,
     "metadata": {},
     "output_type": "execute_result"
    }
   ],
   "source": [
    "first_word_amongus_comp = amongus_comp['title'].map(get_first_word)\n",
    "first_word_amongus_comp.value_counts().sort_values(ascending=False).head(15)"
   ]
  },
  {
   "cell_type": "code",
   "execution_count": 31,
   "id": "cabba03e-0576-4f64-88df-f68c2b208491",
   "metadata": {},
   "outputs": [
    {
     "data": {
      "image/png": "[encoded data removed]",
      "text/plain": [
       "<Figure size 432x288 with 1 Axes>"
      ]
     },
     "metadata": {
      "needs_background": "light"
     },
     "output_type": "display_data"
    }
   ],
   "source": [
    "plot_results(amongus_comp, get_first_word, 'First Word', 'Among Us Competitive')"
   ]
  },
  {
   "cell_type": "code",
   "execution_count": 32,
   "id": "f581a38a-a93a-4802-8d8c-600ca0461168",
   "metadata": {},
   "outputs": [
    {
     "data": {
      "text/plain": [
       "When      90\n",
       "Among     55\n",
       "I         55\n",
       "This      28\n",
       "The       24\n",
       "Amogus    23\n",
       "My        15\n",
       "Sus       14\n",
       "Sussy     14\n",
       "i         11\n",
       "when      10\n",
       "this       9\n",
       "A          8\n",
       "What       8\n",
       "It         8\n",
       "Name: title, dtype: int64"
      ]
     },
     "execution_count": 32,
     "metadata": {},
     "output_type": "execute_result"
    }
   ],
   "source": [
    "last_word_amongus_memes = amongus_memes['title'].map(get_first_word)\n",
    "last_word_amongus_memes.value_counts().sort_values(ascending=False).head(15)"
   ]
  },
  {
   "cell_type": "code",
   "execution_count": 33,
   "id": "fc1269a9-d6e1-48c9-ba75-97ad7424d03d",
   "metadata": {},
   "outputs": [
    {
     "data": {
      "image/png": "[encoded data removed]",
      "text/plain": [
       "<Figure size 432x288 with 1 Axes>"
      ]
     },
     "metadata": {
      "needs_background": "light"
     },
     "output_type": "display_data"
    }
   ],
   "source": [
    "plot_results(amongus_memes, get_first_word, 'First Word', 'Among Us Memes')"
   ]
  },
  {
   "cell_type": "markdown",
   "id": "451f358a-479c-4d3f-9ea2-6f6ff7e9f796",
   "metadata": {},
   "source": [
    "#### Get Last Word"
   ]
  },
  {
   "cell_type": "code",
   "execution_count": 34,
   "id": "fc522919-8b1a-4535-9417-5d1936995c23",
   "metadata": {},
   "outputs": [
    {
     "data": {
      "text/plain": [
       "explained    23\n",
       "Us           21\n",
       "us           19\n",
       "5            11\n",
       "2            10\n",
       "sus           8\n",
       "#shorts       7\n",
       "seek          7\n",
       "3             7\n",
       "map           7\n",
       "lobbies       6\n",
       "1             6\n",
       "US            6\n",
       "6             5\n",
       "😳             5\n",
       "Name: title, dtype: int64"
      ]
     },
     "execution_count": 34,
     "metadata": {},
     "output_type": "execute_result"
    }
   ],
   "source": [
    "last_word_amongus_comp = amongus_comp['title'].map(get_last_word)\n",
    "last_word_amongus_comp.value_counts().sort_values(ascending=False).head(15)"
   ]
  },
  {
   "cell_type": "code",
   "execution_count": 35,
   "id": "024d1dee-dc70-44c7-9bcc-eeeddafec3b9",
   "metadata": {},
   "outputs": [
    {
     "data": {
      "image/png": "[encoded data removed]",
      "text/plain": [
       "<Figure size 432x288 with 1 Axes>"
      ]
     },
     "metadata": {
      "needs_background": "light"
     },
     "output_type": "display_data"
    }
   ],
   "source": [
    "plot_results(amongus_comp, get_last_word, 'Last Word', 'Among Us Competitive')"
   ]
  },
  {
   "cell_type": "code",
   "execution_count": 36,
   "id": "405e95f6-b50d-4e19-9806-06abeaf27305",
   "metadata": {},
   "outputs": [
    {
     "data": {
      "text/plain": [
       "sus        114\n",
       "it          14\n",
       "Amogus      13\n",
       "us          13\n",
       "meme        11\n",
       "Sus         11\n",
       "😳           11\n",
       "sussy       10\n",
       "Us          10\n",
       "SUS          9\n",
       "baka         9\n",
       "me           6\n",
       "amogus       6\n",
       "this         6\n",
       "amogus?      6\n",
       "Name: title, dtype: int64"
      ]
     },
     "execution_count": 36,
     "metadata": {},
     "output_type": "execute_result"
    }
   ],
   "source": [
    "first_word_amongus_memes = amongus_memes['title'].map(get_last_word)\n",
    "first_word_amongus_memes.value_counts().sort_values(ascending=False).head(15)"
   ]
  },
  {
   "cell_type": "code",
   "execution_count": 37,
   "id": "10a8068d-772b-4868-b0d9-da21640e46b0",
   "metadata": {
    "tags": []
   },
   "outputs": [
    {
     "data": {
      "image/png": "[encoded data removed]",
      "text/plain": [
       "<Figure size 432x288 with 1 Axes>"
      ]
     },
     "metadata": {
      "needs_background": "light"
     },
     "output_type": "display_data"
    }
   ],
   "source": [
    "plot_results(amongus_memes, get_last_word, 'Last Word', 'Among Us Memes')"
   ]
  },
  {
   "cell_type": "markdown",
   "id": "8bb62360-9174-47ac-a3a2-a5cf6b585bcc",
   "metadata": {},
   "source": [
    "#### Combining AmongUs Competitive and AmongUs Memes Datasets"
   ]
  },
  {
   "cell_type": "code",
   "execution_count": 38,
   "id": "fa39e7c3-e6de-41ce-a3e4-990ce031b35c",
   "metadata": {},
   "outputs": [],
   "source": [
    "final_df = pd.concat(objs=[amongus_comp, amongus_memes])"
   ]
  },
  {
   "cell_type": "code",
   "execution_count": 39,
   "id": "732ab033-2a71-40dc-bb3d-7326c302c349",
   "metadata": {},
   "outputs": [
    {
     "data": {
      "text/html": [
       "<div>\n",
       "<style scoped>\n",
       "    .dataframe tbody tr th:only-of-type {\n",
       "        vertical-align: middle;\n",
       "    }\n",
       "\n",
       "    .dataframe tbody tr th {\n",
       "        vertical-align: top;\n",
       "    }\n",
       "\n",
       "    .dataframe thead th {\n",
       "        text-align: right;\n",
       "    }\n",
       "</style>\n",
       "<table border=\"1\" class=\"dataframe\">\n",
       "  <thead>\n",
       "    <tr style=\"text-align: right;\">\n",
       "      <th></th>\n",
       "      <th>subreddit</th>\n",
       "      <th>title</th>\n",
       "    </tr>\n",
       "  </thead>\n",
       "  <tbody>\n",
       "    <tr>\n",
       "      <th>0</th>\n",
       "      <td>AmongUsCompetitive</td>\n",
       "      <td>COPS vs ROBBERS *minigame* (Among us) Part 7</td>\n",
       "    </tr>\n",
       "    <tr>\n",
       "      <th>1</th>\n",
       "      <td>AmongUsCompetitive</td>\n",
       "      <td>Cops VS Robbers (Among Us) No Commentary Part 2</td>\n",
       "    </tr>\n",
       "    <tr>\n",
       "      <th>2</th>\n",
       "      <td>AmongUsCompetitive</td>\n",
       "      <td>CAUGHT THE IMPOSTOR IN MR BEAST TIKTOK VIDEO (...</td>\n",
       "    </tr>\n",
       "    <tr>\n",
       "      <th>3</th>\n",
       "      <td>AmongUsCompetitive</td>\n",
       "      <td>Among Us : The crew has no face to go out with...</td>\n",
       "    </tr>\n",
       "    <tr>\n",
       "      <th>4</th>\n",
       "      <td>AmongUsCompetitive</td>\n",
       "      <td>Among us Zombie Highlights Part 9</td>\n",
       "    </tr>\n",
       "  </tbody>\n",
       "</table>\n",
       "</div>"
      ],
      "text/plain": [
       "            subreddit                                              title\n",
       "0  AmongUsCompetitive       COPS vs ROBBERS *minigame* (Among us) Part 7\n",
       "1  AmongUsCompetitive    Cops VS Robbers (Among Us) No Commentary Part 2\n",
       "2  AmongUsCompetitive  CAUGHT THE IMPOSTOR IN MR BEAST TIKTOK VIDEO (...\n",
       "3  AmongUsCompetitive  Among Us : The crew has no face to go out with...\n",
       "4  AmongUsCompetitive                  Among us Zombie Highlights Part 9"
      ]
     },
     "execution_count": 39,
     "metadata": {},
     "output_type": "execute_result"
    }
   ],
   "source": [
    "final_df.head()"
   ]
  },
  {
   "cell_type": "code",
   "execution_count": 40,
   "id": "6ee052a5-ea60-462e-ad02-048b12aed233",
   "metadata": {},
   "outputs": [
    {
     "data": {
      "text/html": [
       "<div>\n",
       "<style scoped>\n",
       "    .dataframe tbody tr th:only-of-type {\n",
       "        vertical-align: middle;\n",
       "    }\n",
       "\n",
       "    .dataframe tbody tr th {\n",
       "        vertical-align: top;\n",
       "    }\n",
       "\n",
       "    .dataframe thead th {\n",
       "        text-align: right;\n",
       "    }\n",
       "</style>\n",
       "<table border=\"1\" class=\"dataframe\">\n",
       "  <thead>\n",
       "    <tr style=\"text-align: right;\">\n",
       "      <th></th>\n",
       "      <th>subreddit</th>\n",
       "      <th>title</th>\n",
       "    </tr>\n",
       "  </thead>\n",
       "  <tbody>\n",
       "    <tr>\n",
       "      <th>1088</th>\n",
       "      <td>AmongUsMemes</td>\n",
       "      <td>i was playing journey and my brain just immedi...</td>\n",
       "    </tr>\n",
       "    <tr>\n",
       "      <th>1089</th>\n",
       "      <td>AmongUsMemes</td>\n",
       "      <td>Being Imposter is easy</td>\n",
       "    </tr>\n",
       "    <tr>\n",
       "      <th>1090</th>\n",
       "      <td>AmongUsMemes</td>\n",
       "      <td>😳😳😳😳😳😳</td>\n",
       "    </tr>\n",
       "    <tr>\n",
       "      <th>1091</th>\n",
       "      <td>AmongUsMemes</td>\n",
       "      <td>The Imposter gets tired of being called a Suss...</td>\n",
       "    </tr>\n",
       "    <tr>\n",
       "      <th>1092</th>\n",
       "      <td>AmongUsMemes</td>\n",
       "      <td>Windows 11 is SUS</td>\n",
       "    </tr>\n",
       "  </tbody>\n",
       "</table>\n",
       "</div>"
      ],
      "text/plain": [
       "         subreddit                                              title\n",
       "1088  AmongUsMemes  i was playing journey and my brain just immedi...\n",
       "1089  AmongUsMemes                             Being Imposter is easy\n",
       "1090  AmongUsMemes                                             😳😳😳😳😳😳\n",
       "1091  AmongUsMemes  The Imposter gets tired of being called a Suss...\n",
       "1092  AmongUsMemes                                  Windows 11 is SUS"
      ]
     },
     "execution_count": 40,
     "metadata": {},
     "output_type": "execute_result"
    }
   ],
   "source": [
    "final_df.tail()"
   ]
  },
  {
   "cell_type": "code",
   "execution_count": 41,
   "id": "67124ad3-0de1-4388-aca1-6db1efb4f193",
   "metadata": {},
   "outputs": [
    {
     "data": {
      "text/plain": [
       "AmongUsMemes          1093\n",
       "AmongUsCompetitive    1093\n",
       "Name: subreddit, dtype: int64"
      ]
     },
     "execution_count": 41,
     "metadata": {},
     "output_type": "execute_result"
    }
   ],
   "source": [
    "final_df['subreddit'].value_counts()"
   ]
  },
  {
   "cell_type": "code",
   "execution_count": 42,
   "id": "4ff83256-9053-4acf-aabc-f3dc8ede1aae",
   "metadata": {},
   "outputs": [
    {
     "data": {
      "text/plain": [
       "(2186, 2)"
      ]
     },
     "execution_count": 42,
     "metadata": {},
     "output_type": "execute_result"
    }
   ],
   "source": [
    "final_df.shape"
   ]
  },
  {
   "cell_type": "markdown",
   "id": "90a6f25e-c335-42f0-bc17-f5c33d2e591b",
   "metadata": {},
   "source": [
    "#### Exporting the New DataFrame to a CSV File for Modeling "
   ]
  },
  {
   "cell_type": "code",
   "execution_count": 43,
   "id": "4962767c-a472-4466-8616-ae6dada4c946",
   "metadata": {},
   "outputs": [],
   "source": [
    "final_df.to_csv('../datasets/amongus_comp_memes.csv', index=False)"
   ]
  }
 ],
 "metadata": {
  "kernelspec": {
   "display_name": "Python 3",
   "language": "python",
   "name": "python3"
  },
  "language_info": {
   "codemirror_mode": {
    "name": "ipython",
    "version": 3
   },
   "file_extension": ".py",
   "mimetype": "text/x-python",
   "name": "python",
   "nbconvert_exporter": "python",
   "pygments_lexer": "ipython3",
   "version": "3.8.8"
  }
 },
 "nbformat": 4,
 "nbformat_minor": 5
}
