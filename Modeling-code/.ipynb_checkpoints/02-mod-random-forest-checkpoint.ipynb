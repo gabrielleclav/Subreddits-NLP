{
 "cells": [
  {
   "cell_type": "markdown",
   "id": "1efd545a-ab9a-4b95-99dd-a324d4972696",
   "metadata": {},
   "source": [
    "## Random Forest Classifier Model\n",
    "---"
   ]
  },
  {
   "cell_type": "markdown",
   "id": "1424c532-7b8b-4c45-8b68-a20cff8da5b7",
   "metadata": {},
   "source": [
    "### Importing the Dataset"
   ]
  },
  {
   "cell_type": "code",
   "execution_count": 1,
   "id": "32e1f8ce-c35d-4f79-ad92-bd8232aa4cfa",
   "metadata": {},
   "outputs": [],
   "source": [
    "#Necessary library imports \n",
    "import pandas as pd\n",
    "import numpy as np\n",
    "import matplotlib.pyplot as plt\n",
    "import seaborn as sns\n",
    "\n",
    "from sklearn.model_selection import train_test_split, GridSearchCV\n",
    "from sklearn.pipeline import Pipeline\n",
    "from sklearn.metrics import confusion_matrix, plot_confusion_matrix, classification_report\n",
    "\n",
    "\n",
    "# Import CountVectorizer from feature_extraction.text.\n",
    "from sklearn.feature_extraction.text import CountVectorizer, TfidfVectorizer\n",
    "\n",
    "#Importing the Random Forest Classifier module \n",
    "from sklearn.ensemble import RandomForestClassifier\n",
    "\n",
    "#Import pickle for steamlit \n",
    "import pickle"
   ]
  },
  {
   "cell_type": "code",
   "execution_count": 2,
   "id": "a920ff07-d2e2-4a89-b8e1-75b0931c9314",
   "metadata": {},
   "outputs": [
    {
     "data": {
      "text/html": [
       "<div>\n",
       "<style scoped>\n",
       "    .dataframe tbody tr th:only-of-type {\n",
       "        vertical-align: middle;\n",
       "    }\n",
       "\n",
       "    .dataframe tbody tr th {\n",
       "        vertical-align: top;\n",
       "    }\n",
       "\n",
       "    .dataframe thead th {\n",
       "        text-align: right;\n",
       "    }\n",
       "</style>\n",
       "<table border=\"1\" class=\"dataframe\">\n",
       "  <thead>\n",
       "    <tr style=\"text-align: right;\">\n",
       "      <th></th>\n",
       "      <th>subreddit</th>\n",
       "      <th>title</th>\n",
       "    </tr>\n",
       "  </thead>\n",
       "  <tbody>\n",
       "    <tr>\n",
       "      <th>0</th>\n",
       "      <td>AmongUsCompetitive</td>\n",
       "      <td>COPS vs ROBBERS *minigame* (Among us) Part 7</td>\n",
       "    </tr>\n",
       "    <tr>\n",
       "      <th>1</th>\n",
       "      <td>AmongUsCompetitive</td>\n",
       "      <td>Cops VS Robbers (Among Us) No Commentary Part 2</td>\n",
       "    </tr>\n",
       "    <tr>\n",
       "      <th>2</th>\n",
       "      <td>AmongUsCompetitive</td>\n",
       "      <td>CAUGHT THE IMPOSTOR IN MR BEAST TIKTOK VIDEO (...</td>\n",
       "    </tr>\n",
       "    <tr>\n",
       "      <th>3</th>\n",
       "      <td>AmongUsCompetitive</td>\n",
       "      <td>Among Us : The crew has no face to go out with...</td>\n",
       "    </tr>\n",
       "    <tr>\n",
       "      <th>4</th>\n",
       "      <td>AmongUsCompetitive</td>\n",
       "      <td>Among us Zombie Highlights Part 9</td>\n",
       "    </tr>\n",
       "  </tbody>\n",
       "</table>\n",
       "</div>"
      ],
      "text/plain": [
       "            subreddit                                              title\n",
       "0  AmongUsCompetitive       COPS vs ROBBERS *minigame* (Among us) Part 7\n",
       "1  AmongUsCompetitive    Cops VS Robbers (Among Us) No Commentary Part 2\n",
       "2  AmongUsCompetitive  CAUGHT THE IMPOSTOR IN MR BEAST TIKTOK VIDEO (...\n",
       "3  AmongUsCompetitive  Among Us : The crew has no face to go out with...\n",
       "4  AmongUsCompetitive                  Among us Zombie Highlights Part 9"
      ]
     },
     "execution_count": 2,
     "metadata": {},
     "output_type": "execute_result"
    }
   ],
   "source": [
    "among_us_df = pd.read_csv('../datasets/amongus_comp_memes.csv')\n",
    "among_us_df.head()"
   ]
  },
  {
   "cell_type": "code",
   "execution_count": 3,
   "id": "aedede19-922d-4c28-9e10-49346a128287",
   "metadata": {},
   "outputs": [
    {
     "data": {
      "text/plain": [
       "(2186, 2)"
      ]
     },
     "execution_count": 3,
     "metadata": {},
     "output_type": "execute_result"
    }
   ],
   "source": [
    "#Checking the shape is correct\n",
    "among_us_df.shape"
   ]
  },
  {
   "cell_type": "markdown",
   "id": "22c73b4c-da47-4727-be6e-caa474119f3c",
   "metadata": {},
   "source": [
    "### Create X and y then Train, Test Split \n",
    "---"
   ]
  },
  {
   "cell_type": "code",
   "execution_count": 4,
   "id": "94ca72f7-d0c5-49ec-a37b-bdc434701d20",
   "metadata": {},
   "outputs": [],
   "source": [
    "X = among_us_df['title']\n",
    "y = among_us_df['subreddit']"
   ]
  },
  {
   "cell_type": "code",
   "execution_count": 5,
   "id": "780be582-8585-4072-b137-a1cf16ead2a5",
   "metadata": {},
   "outputs": [],
   "source": [
    "X_train, X_test, y_train, y_test = train_test_split(X, y, stratify=y, random_state=42)"
   ]
  },
  {
   "cell_type": "markdown",
   "id": "c239a9d5-39ca-4f8a-858b-15bf56acd598",
   "metadata": {},
   "source": [
    "### Fitting the Model Using Pipeline \n",
    "---"
   ]
  },
  {
   "cell_type": "code",
   "execution_count": 6,
   "id": "b063d139-3ce1-4920-afd7-b4f7fc95782b",
   "metadata": {},
   "outputs": [],
   "source": [
    "pipe = Pipeline(steps=[\n",
    "    ('cv', CountVectorizer()),\n",
    "    ('rfc', RandomForestClassifier(random_state=42))\n",
    "])"
   ]
  },
  {
   "cell_type": "code",
   "execution_count": 7,
   "id": "9c42f64d-54f6-491f-b685-ac9be0417522",
   "metadata": {},
   "outputs": [
    {
     "data": {
      "text/plain": [
       "Pipeline(steps=[('cv', CountVectorizer()),\n",
       "                ('rfc', RandomForestClassifier(random_state=42))])"
      ]
     },
     "execution_count": 7,
     "metadata": {},
     "output_type": "execute_result"
    }
   ],
   "source": [
    "pipe.fit(X_train, y_train)"
   ]
  },
  {
   "cell_type": "code",
   "execution_count": 8,
   "id": "2b3bb7d6-3347-4ca7-b2db-aff2863bdb29",
   "metadata": {},
   "outputs": [
    {
     "data": {
      "text/plain": [
       "(0.984136668700427, 0.7477148080438757)"
      ]
     },
     "execution_count": 8,
     "metadata": {},
     "output_type": "execute_result"
    }
   ],
   "source": [
    "pipe.score(X_train, y_train), pipe.score(X_test, y_test)"
   ]
  },
  {
   "cell_type": "code",
   "execution_count": 9,
   "id": "355ef38a-6420-4409-b85f-a86fa7a6d533",
   "metadata": {},
   "outputs": [],
   "source": [
    "preds_cv = pipe.predict(X_test)"
   ]
  },
  {
   "cell_type": "code",
   "execution_count": 10,
   "id": "a04f256c-ec7f-44fd-867e-fff88ed01d57",
   "metadata": {},
   "outputs": [
    {
     "data": {
      "text/plain": [
       "array([[0.35502664, 0.64497336],\n",
       "       [0.35502664, 0.64497336],\n",
       "       [0.35502664, 0.64497336],\n",
       "       ...,\n",
       "       [0.38377489, 0.61622511],\n",
       "       [0.92696309, 0.07303691],\n",
       "       [0.14847222, 0.85152778]])"
      ]
     },
     "execution_count": 10,
     "metadata": {},
     "output_type": "execute_result"
    }
   ],
   "source": [
    "pipe.predict_proba(X_test) #Checking the probability of the model predicting AmongusCompetitive or AmongusMemes"
   ]
  },
  {
   "cell_type": "markdown",
   "id": "af0f74a5-c2d3-46ed-8dbd-1081edc5ec0b",
   "metadata": {},
   "source": [
    "#### Plotting a Confusion Matrix -- Pipline"
   ]
  },
  {
   "cell_type": "code",
   "execution_count": 11,
   "id": "25b060e1-9344-416b-bce9-9edc89d84b70",
   "metadata": {},
   "outputs": [
    {
     "name": "stdout",
     "output_type": "stream",
     "text": [
      "[[206  68]\n",
      " [ 70 203]]\n"
     ]
    }
   ],
   "source": [
    "tn, fp, fn, tp = confusion_matrix(y_test,\n",
    "                                  preds_cv).ravel()\n",
    "\n",
    "print(confusion_matrix(y_test,\n",
    "                       preds_cv))"
   ]
  },
  {
   "cell_type": "code",
   "execution_count": 12,
   "id": "4d22c89a-7649-4d4c-af81-71918e53601d",
   "metadata": {},
   "outputs": [
    {
     "data": {
      "image/png": "[encoded data removed]",
      "text/plain": [
       "<Figure size 432x288 with 2 Axes>"
      ]
     },
     "metadata": {
      "needs_background": "light"
     },
     "output_type": "display_data"
    }
   ],
   "source": [
    "plot_confusion_matrix(estimator=pipe, X = X_test, y_true=y_test);"
   ]
  },
  {
   "cell_type": "code",
   "execution_count": 13,
   "id": "5eea3f5f-7722-456b-ae28-e40e46b738b2",
   "metadata": {},
   "outputs": [
    {
     "name": "stdout",
     "output_type": "stream",
     "text": [
      "Sensitivity: 0.2523\n"
     ]
    }
   ],
   "source": [
    "# Calculate Misclassification.\n",
    "\n",
    "misclass = (fn + fp) / (tn + fp + fn + tp)\n",
    "\n",
    "print(f'Sensitivity: {round(misclass, 4)}')"
   ]
  },
  {
   "cell_type": "markdown",
   "id": "a7433898-c73d-4fe7-829e-cd62d404df00",
   "metadata": {},
   "source": [
    "The model **incorrectly** predicted 25.23% of the observations"
   ]
  },
  {
   "cell_type": "code",
   "execution_count": 64,
   "id": "cfc48764-4240-42d4-9c56-2a37946ec045",
   "metadata": {},
   "outputs": [
    {
     "name": "stdout",
     "output_type": "stream",
     "text": [
      "                    precision    recall  f1-score   support\n",
      "\n",
      "AmongUsCompetitive       0.75      0.75      0.75       274\n",
      "      AmongUsMemes       0.75      0.74      0.75       273\n",
      "\n",
      "          accuracy                           0.75       547\n",
      "         macro avg       0.75      0.75      0.75       547\n",
      "      weighted avg       0.75      0.75      0.75       547\n",
      "\n"
     ]
    }
   ],
   "source": [
    "print(classification_report(y_test, preds_cv))"
   ]
  },
  {
   "cell_type": "markdown",
   "id": "78d3f9c3-d7d1-44ae-a215-3e904d2755f9",
   "metadata": {},
   "source": [
    "#### Prediction Values vs. Actual Values -- Pipeline"
   ]
  },
  {
   "cell_type": "code",
   "execution_count": 14,
   "id": "dccfe14b-0036-4b0c-95dd-36b904fa82d1",
   "metadata": {},
   "outputs": [
    {
     "data": {
      "text/html": [
       "<div>\n",
       "<style scoped>\n",
       "    .dataframe tbody tr th:only-of-type {\n",
       "        vertical-align: middle;\n",
       "    }\n",
       "\n",
       "    .dataframe tbody tr th {\n",
       "        vertical-align: top;\n",
       "    }\n",
       "\n",
       "    .dataframe thead th {\n",
       "        text-align: right;\n",
       "    }\n",
       "</style>\n",
       "<table border=\"1\" class=\"dataframe\">\n",
       "  <thead>\n",
       "    <tr style=\"text-align: right;\">\n",
       "      <th></th>\n",
       "      <th>actual</th>\n",
       "      <th>predictions</th>\n",
       "    </tr>\n",
       "  </thead>\n",
       "  <tbody>\n",
       "    <tr>\n",
       "      <th>1527</th>\n",
       "      <td>AmongUsMemes</td>\n",
       "      <td>AmongUsMemes</td>\n",
       "    </tr>\n",
       "    <tr>\n",
       "      <th>1925</th>\n",
       "      <td>AmongUsMemes</td>\n",
       "      <td>AmongUsMemes</td>\n",
       "    </tr>\n",
       "    <tr>\n",
       "      <th>276</th>\n",
       "      <td>AmongUsCompetitive</td>\n",
       "      <td>AmongUsMemes</td>\n",
       "    </tr>\n",
       "    <tr>\n",
       "      <th>1923</th>\n",
       "      <td>AmongUsMemes</td>\n",
       "      <td>AmongUsMemes</td>\n",
       "    </tr>\n",
       "    <tr>\n",
       "      <th>484</th>\n",
       "      <td>AmongUsCompetitive</td>\n",
       "      <td>AmongUsCompetitive</td>\n",
       "    </tr>\n",
       "  </tbody>\n",
       "</table>\n",
       "</div>"
      ],
      "text/plain": [
       "                  actual         predictions\n",
       "1527        AmongUsMemes        AmongUsMemes\n",
       "1925        AmongUsMemes        AmongUsMemes\n",
       "276   AmongUsCompetitive        AmongUsMemes\n",
       "1923        AmongUsMemes        AmongUsMemes\n",
       "484   AmongUsCompetitive  AmongUsCompetitive"
      ]
     },
     "execution_count": 14,
     "metadata": {},
     "output_type": "execute_result"
    }
   ],
   "source": [
    "new_df_pipe = pd.DataFrame(y_test)\n",
    "\n",
    "new_df_pipe['predictions'] = preds_cv\n",
    "\n",
    "new_df_pipe.rename(columns={\"subreddit\": \"actual\"}, inplace=True)\n",
    "\n",
    "new_df_pipe.head()"
   ]
  },
  {
   "cell_type": "code",
   "execution_count": 15,
   "id": "43319be3-5a35-4ceb-84d6-31ee760de2c2",
   "metadata": {},
   "outputs": [
    {
     "data": {
      "text/plain": [
       "actual         138\n",
       "predictions    138\n",
       "dtype: int64"
      ]
     },
     "execution_count": 15,
     "metadata": {},
     "output_type": "execute_result"
    }
   ],
   "source": [
    "new_df_pipe.loc[new_df_pipe['actual']!= new_df_pipe['predictions']].count()"
   ]
  },
  {
   "cell_type": "markdown",
   "id": "5326b765-8e9a-452d-b060-6f23c76d5452",
   "metadata": {},
   "source": [
    "### Predicting Certain Words -- Pipeline\n",
    "---"
   ]
  },
  {
   "cell_type": "code",
   "execution_count": 16,
   "id": "6b3af01e-7edb-40fd-8e48-6c1751c2b26b",
   "metadata": {},
   "outputs": [
    {
     "data": {
      "text/plain": [
       "array(['AmongUsMemes', 'AmongUsCompetitive', 'AmongUsCompetitive',\n",
       "       'AmongUsMemes'], dtype=object)"
      ]
     },
     "execution_count": 16,
     "metadata": {},
     "output_type": "execute_result"
    }
   ],
   "source": [
    "pipe.predict([\n",
    "    \"imposter\",\n",
    "    \"among us\", \n",
    "    'sus',\n",
    "    'sussy'\n",
    "])"
   ]
  },
  {
   "cell_type": "markdown",
   "id": "c47567b1-ef33-4800-9add-176d26e0718c",
   "metadata": {},
   "source": [
    "Checking the dataframe for each of the words in the previous code block and how many times it shows up in each of the subreddits. "
   ]
  },
  {
   "cell_type": "code",
   "execution_count": 18,
   "id": "8f545780-8ca8-45b2-b218-d7c1c39d5d4e",
   "metadata": {},
   "outputs": [
    {
     "data": {
      "text/plain": [
       "subreddit    243\n",
       "title        243\n",
       "dtype: int64"
      ]
     },
     "execution_count": 18,
     "metadata": {},
     "output_type": "execute_result"
    }
   ],
   "source": [
    "among_us_df.loc[(among_us_df['title'].str.contains('sus')) & (among_us_df['subreddit'] == 'AmongUsMemes')].count()"
   ]
  },
  {
   "cell_type": "code",
   "execution_count": 19,
   "id": "cd833994-132a-4d35-800f-0ed941dcd56f",
   "metadata": {},
   "outputs": [
    {
     "data": {
      "text/plain": [
       "subreddit    29\n",
       "title        29\n",
       "dtype: int64"
      ]
     },
     "execution_count": 19,
     "metadata": {},
     "output_type": "execute_result"
    }
   ],
   "source": [
    "among_us_df.loc[(among_us_df['title'].str.contains('sus')) & (among_us_df['subreddit'] == 'AmongUsCompetitive')].count()"
   ]
  },
  {
   "cell_type": "code",
   "execution_count": 20,
   "id": "fe10d2e4-dd96-456e-82ed-ed71f61981da",
   "metadata": {},
   "outputs": [
    {
     "data": {
      "text/plain": [
       "subreddit    37\n",
       "title        37\n",
       "dtype: int64"
      ]
     },
     "execution_count": 20,
     "metadata": {},
     "output_type": "execute_result"
    }
   ],
   "source": [
    "among_us_df.loc[(among_us_df['title'].str.contains('sussy')) & (among_us_df['subreddit'] == 'AmongUsMemes')].count()"
   ]
  },
  {
   "cell_type": "code",
   "execution_count": 21,
   "id": "b7619e7d-73bd-48f4-af82-45ecca12567e",
   "metadata": {},
   "outputs": [
    {
     "data": {
      "text/plain": [
       "subreddit    2\n",
       "title        2\n",
       "dtype: int64"
      ]
     },
     "execution_count": 21,
     "metadata": {},
     "output_type": "execute_result"
    }
   ],
   "source": [
    "among_us_df.loc[(among_us_df['title'].str.contains('sussy')) & (among_us_df['subreddit'] == 'AmongUsCompetitive')].count()"
   ]
  },
  {
   "cell_type": "code",
   "execution_count": 17,
   "id": "49501ee4-5393-4a07-8651-89bd5aab8287",
   "metadata": {},
   "outputs": [
    {
     "data": {
      "text/plain": [
       "array(['AmongUsMemes', 'AmongUsCompetitive', 'AmongUsMemes',\n",
       "       'AmongUsMemes'], dtype=object)"
      ]
     },
     "execution_count": 17,
     "metadata": {},
     "output_type": "execute_result"
    }
   ],
   "source": [
    "pipe.predict([\n",
    "    \"Best imposter out there\",\n",
    "    \"looking for a team\", \n",
    "    'pig is sus',\n",
    "    'the sussy queen'\n",
    "])"
   ]
  },
  {
   "cell_type": "markdown",
   "id": "a4c8ad6e-e1c6-4fe7-b2ab-dce649972e4d",
   "metadata": {},
   "source": [
    "### Fit the Model Using Pipleline and GridSearch\n",
    "---"
   ]
  },
  {
   "cell_type": "code",
   "execution_count": 22,
   "id": "9abec498-51b8-4e2d-8927-d12192c01941",
   "metadata": {},
   "outputs": [],
   "source": [
    "grid = {\n",
    "    'rfc__n_estimators': [100, 150, 200],\n",
    "    'rfc__max_depth': [95, 100, 120, 150, 180],\n",
    "    'rfc__min_samples_split': [10, 15, 20, 35]\n",
    "    \n",
    "}"
   ]
  },
  {
   "cell_type": "code",
   "execution_count": 23,
   "id": "08f4df77-d49e-48ed-8d33-570e21d360d7",
   "metadata": {},
   "outputs": [],
   "source": [
    "gs_rfc = GridSearchCV(estimator=pipe, param_grid=grid)"
   ]
  },
  {
   "cell_type": "code",
   "execution_count": 24,
   "id": "8aa5c260-2e13-4dea-9890-caeaa59586a4",
   "metadata": {},
   "outputs": [
    {
     "data": {
      "text/plain": [
       "GridSearchCV(estimator=Pipeline(steps=[('cv', CountVectorizer()),\n",
       "                                       ('rfc',\n",
       "                                        RandomForestClassifier(random_state=42))]),\n",
       "             param_grid={'rfc__max_depth': [95, 100, 120, 150, 180],\n",
       "                         'rfc__min_samples_split': [10, 15, 20, 35],\n",
       "                         'rfc__n_estimators': [100, 150, 200]})"
      ]
     },
     "execution_count": 24,
     "metadata": {},
     "output_type": "execute_result"
    }
   ],
   "source": [
    "gs_rfc.fit(X_train, y_train)"
   ]
  },
  {
   "cell_type": "code",
   "execution_count": 25,
   "id": "407cce17-753c-45e0-944e-8849b2dfd7c8",
   "metadata": {},
   "outputs": [
    {
     "data": {
      "text/plain": [
       "{'rfc__max_depth': 120, 'rfc__min_samples_split': 20, 'rfc__n_estimators': 100}"
      ]
     },
     "execution_count": 25,
     "metadata": {},
     "output_type": "execute_result"
    }
   ],
   "source": [
    "gs_rfc.best_params_"
   ]
  },
  {
   "cell_type": "code",
   "execution_count": 26,
   "id": "2664275e-790b-4f16-8e97-b0b7f11384af",
   "metadata": {},
   "outputs": [
    {
     "data": {
      "text/plain": [
       "(0.937156802928615, 0.7678244972577697)"
      ]
     },
     "execution_count": 26,
     "metadata": {},
     "output_type": "execute_result"
    }
   ],
   "source": [
    "gs_rfc.score(X_train, y_train), gs_rfc.score(X_test, y_test)"
   ]
  },
  {
   "cell_type": "code",
   "execution_count": 27,
   "id": "fb3a5092-38e8-4674-90a0-4eacb8d9d977",
   "metadata": {},
   "outputs": [
    {
     "data": {
      "text/plain": [
       "0.7852092190646678"
      ]
     },
     "execution_count": 27,
     "metadata": {},
     "output_type": "execute_result"
    }
   ],
   "source": [
    "gs_rfc.best_score_"
   ]
  },
  {
   "cell_type": "code",
   "execution_count": 28,
   "id": "720ca6e9-fc1c-4335-aa18-cdd7ee1c6835",
   "metadata": {},
   "outputs": [],
   "source": [
    "preds_gs = gs_rfc.predict(X_test)"
   ]
  },
  {
   "cell_type": "markdown",
   "id": "f5c1be37-6164-411a-a89d-cf020f32f68a",
   "metadata": {},
   "source": [
    "#### Plotting a Confusion Matrix -- Pipline and GridSearch"
   ]
  },
  {
   "cell_type": "code",
   "execution_count": 29,
   "id": "583aaf3b-cede-4174-9a62-ff9f09f9dd7b",
   "metadata": {},
   "outputs": [
    {
     "name": "stdout",
     "output_type": "stream",
     "text": [
      "[[201  73]\n",
      " [ 54 219]]\n"
     ]
    }
   ],
   "source": [
    "tn_gs, fp_gs, fn_gs, tp_gs = confusion_matrix(y_test,\n",
    "                                  preds_gs).ravel()\n",
    "\n",
    "print(confusion_matrix(y_test,\n",
    "                       preds_gs))"
   ]
  },
  {
   "cell_type": "code",
   "execution_count": 30,
   "id": "cc702ded-f5d9-40a5-aeb7-b4ab3191f8ed",
   "metadata": {},
   "outputs": [
    {
     "data": {
      "image/png": "[encoded data removed]",
      "text/plain": [
       "<Figure size 432x288 with 2 Axes>"
      ]
     },
     "metadata": {
      "needs_background": "light"
     },
     "output_type": "display_data"
    }
   ],
   "source": [
    "plot_confusion_matrix(estimator=gs_rfc, X = X_test, y_true=y_test);"
   ]
  },
  {
   "cell_type": "code",
   "execution_count": 31,
   "id": "1b28be4b-c556-4c88-8d85-6d900a8b9c74",
   "metadata": {},
   "outputs": [
    {
     "name": "stdout",
     "output_type": "stream",
     "text": [
      "Sensitivity: 0.2322\n"
     ]
    }
   ],
   "source": [
    "# Calculate Misclassification.\n",
    "\n",
    "misclass = (fn_gs + fp_gs) / (tn_gs + fp_gs + fn_gs + tp_gs)\n",
    "\n",
    "print(f'Sensitivity: {round(misclass, 4)}')"
   ]
  },
  {
   "cell_type": "markdown",
   "id": "6d61fc9a-ba16-4b63-b8a9-ab0adc62f6f8",
   "metadata": {},
   "source": [
    "The model **incorrectly** predicted 23.22% of the observations"
   ]
  },
  {
   "cell_type": "code",
   "execution_count": 62,
   "id": "3efda40b-c898-40bb-8e19-2c81bc4294fc",
   "metadata": {},
   "outputs": [
    {
     "name": "stdout",
     "output_type": "stream",
     "text": [
      "                    precision    recall  f1-score   support\n",
      "\n",
      "AmongUsCompetitive       0.79      0.73      0.76       274\n",
      "      AmongUsMemes       0.75      0.80      0.78       273\n",
      "\n",
      "          accuracy                           0.77       547\n",
      "         macro avg       0.77      0.77      0.77       547\n",
      "      weighted avg       0.77      0.77      0.77       547\n",
      "\n"
     ]
    }
   ],
   "source": [
    "print(classification_report(y_test, preds_gs))"
   ]
  },
  {
   "cell_type": "markdown",
   "id": "dd9673b4-e7ae-4fd1-85e2-8a4d8aff06b4",
   "metadata": {},
   "source": [
    "#### Predicting New Titles"
   ]
  },
  {
   "cell_type": "code",
   "execution_count": 32,
   "id": "b7158160-b9ec-4f1e-8f63-58d20601cb77",
   "metadata": {},
   "outputs": [
    {
     "data": {
      "text/plain": [
       "array(['AmongUsMemes', 'AmongUsMemes', 'AmongUsMemes', 'AmongUsMemes'],\n",
       "      dtype=object)"
      ]
     },
     "execution_count": 32,
     "metadata": {},
     "output_type": "execute_result"
    }
   ],
   "source": [
    "gs_rfc.predict([\n",
    "    \"Best imposter out there\",\n",
    "    \"looking for a team\", \n",
    "    'pig is sus',\n",
    "    'the sussy queen'\n",
    "])"
   ]
  },
  {
   "cell_type": "markdown",
   "id": "0d03158c-8337-4ec9-b107-e001bdeddb69",
   "metadata": {},
   "source": [
    "#### Prediction Values vs. Actual Values"
   ]
  },
  {
   "cell_type": "code",
   "execution_count": 33,
   "id": "9f11a278-3671-4483-82c3-6b476753f774",
   "metadata": {},
   "outputs": [
    {
     "data": {
      "text/html": [
       "<div>\n",
       "<style scoped>\n",
       "    .dataframe tbody tr th:only-of-type {\n",
       "        vertical-align: middle;\n",
       "    }\n",
       "\n",
       "    .dataframe tbody tr th {\n",
       "        vertical-align: top;\n",
       "    }\n",
       "\n",
       "    .dataframe thead th {\n",
       "        text-align: right;\n",
       "    }\n",
       "</style>\n",
       "<table border=\"1\" class=\"dataframe\">\n",
       "  <thead>\n",
       "    <tr style=\"text-align: right;\">\n",
       "      <th></th>\n",
       "      <th>actual</th>\n",
       "      <th>predictions</th>\n",
       "    </tr>\n",
       "  </thead>\n",
       "  <tbody>\n",
       "    <tr>\n",
       "      <th>1527</th>\n",
       "      <td>AmongUsMemes</td>\n",
       "      <td>AmongUsMemes</td>\n",
       "    </tr>\n",
       "    <tr>\n",
       "      <th>1925</th>\n",
       "      <td>AmongUsMemes</td>\n",
       "      <td>AmongUsMemes</td>\n",
       "    </tr>\n",
       "    <tr>\n",
       "      <th>276</th>\n",
       "      <td>AmongUsCompetitive</td>\n",
       "      <td>AmongUsMemes</td>\n",
       "    </tr>\n",
       "    <tr>\n",
       "      <th>1923</th>\n",
       "      <td>AmongUsMemes</td>\n",
       "      <td>AmongUsMemes</td>\n",
       "    </tr>\n",
       "    <tr>\n",
       "      <th>484</th>\n",
       "      <td>AmongUsCompetitive</td>\n",
       "      <td>AmongUsCompetitive</td>\n",
       "    </tr>\n",
       "  </tbody>\n",
       "</table>\n",
       "</div>"
      ],
      "text/plain": [
       "                  actual         predictions\n",
       "1527        AmongUsMemes        AmongUsMemes\n",
       "1925        AmongUsMemes        AmongUsMemes\n",
       "276   AmongUsCompetitive        AmongUsMemes\n",
       "1923        AmongUsMemes        AmongUsMemes\n",
       "484   AmongUsCompetitive  AmongUsCompetitive"
      ]
     },
     "execution_count": 33,
     "metadata": {},
     "output_type": "execute_result"
    }
   ],
   "source": [
    "new_df_gs = pd.DataFrame(y_test)\n",
    "\n",
    "new_df_gs['predictions'] = preds_gs\n",
    "\n",
    "new_df_gs.rename(columns={\"subreddit\": \"actual\"}, inplace=True)\n",
    "\n",
    "new_df_gs.head()"
   ]
  },
  {
   "cell_type": "code",
   "execution_count": 34,
   "id": "8d25dc82-bd68-455b-b8f1-d11c73c3449a",
   "metadata": {},
   "outputs": [
    {
     "data": {
      "text/plain": [
       "actual         127\n",
       "predictions    127\n",
       "dtype: int64"
      ]
     },
     "execution_count": 34,
     "metadata": {},
     "output_type": "execute_result"
    }
   ],
   "source": [
    "new_df_gs.loc[new_df_gs['actual']!= new_df_gs['predictions']].count()"
   ]
  },
  {
   "cell_type": "markdown",
   "id": "9fa69e71-c094-4d19-8ac1-ab432949ecbc",
   "metadata": {},
   "source": [
    "### Predicting Certain Words -- GridSearch \n",
    "---"
   ]
  },
  {
   "cell_type": "code",
   "execution_count": 35,
   "id": "671d9a0d-e22f-4f2c-97c8-278c9549ab0b",
   "metadata": {},
   "outputs": [
    {
     "data": {
      "text/plain": [
       "array(['AmongUsMemes', 'AmongUsCompetitive', 'AmongUsMemes',\n",
       "       'AmongUsMemes'], dtype=object)"
      ]
     },
     "execution_count": 35,
     "metadata": {},
     "output_type": "execute_result"
    }
   ],
   "source": [
    "gs_rfc.predict([\n",
    "    \"imposter\",\n",
    "    \"among us\", \n",
    "    'sus',\n",
    "    'sussy'\n",
    "])"
   ]
  },
  {
   "cell_type": "markdown",
   "id": "d9b5f575-008d-4a27-9f28-f9d489936c20",
   "metadata": {},
   "source": [
    "\n",
    "-----\n",
    "**Interesting point** : Remember in the first Predicting Certain Words Section, using only pipeline, that model predicted 'sus' and 'sussy' to be in AmongUSCompetitive, which I did not understand because 243 titles in AmongUsMemes contains 'sus' unlike AmongUsCompetitive which only had 29 titles. Same with 'sussy': 37 titles in AmongUsMemes and 2 titles in AmongUsCompetitive.\n",
    "\n",
    "However, using the pipeline AND gridsearch, I was able to not only get a better test score, I also saw that the model predicted  'sus' to be coming from AmongUsMemes, which makes more sense.\n",
    "\n",
    "---"
   ]
  },
  {
   "cell_type": "code",
   "execution_count": 36,
   "id": "7a764b28-a327-43e8-95ac-70f5c509085b",
   "metadata": {},
   "outputs": [
    {
     "data": {
      "text/plain": [
       "array(['AmongUsMemes', 'AmongUsMemes', 'AmongUsMemes', 'AmongUsMemes'],\n",
       "      dtype=object)"
      ]
     },
     "execution_count": 36,
     "metadata": {},
     "output_type": "execute_result"
    }
   ],
   "source": [
    "gs_rfc.predict([\n",
    "    \"Best imposter out there\",\n",
    "    \"looking for a team\", \n",
    "    'pig is sus',\n",
    "    'the sussy queen'\n",
    "])"
   ]
  },
  {
   "cell_type": "markdown",
   "id": "20fb51cc-1c47-462a-b428-04b682fd079a",
   "metadata": {},
   "source": [
    "This model predicted all these phrases to be in AmongUsMemes, which is interesting because I would have thought 'looking for a team' would be from AmongUsCompetitive"
   ]
  },
  {
   "cell_type": "markdown",
   "id": "8ff9bab7-d947-497f-b803-bdca8dfd3007",
   "metadata": {},
   "source": [
    "### Compare Scores Using TFIDF\n",
    "---"
   ]
  },
  {
   "cell_type": "code",
   "execution_count": 37,
   "id": "7a51649e-9e1b-422b-a527-9c84ec849bd1",
   "metadata": {},
   "outputs": [],
   "source": [
    "grid_tfv = {\n",
    "    'rf__n_estimators': [100, 150, 155, 160, 165, 170],\n",
    "    'rf__max_depth': [95, 100, 120, 150, 160, 165, 170],\n",
    "    'rf__min_samples_split': [100, 105, 110, 120, 125, 130, 135, 140]\n",
    "}"
   ]
  },
  {
   "cell_type": "code",
   "execution_count": 38,
   "id": "88d27dba-b695-4ffb-8885-ba964d2593d4",
   "metadata": {},
   "outputs": [],
   "source": [
    "pipeline = Pipeline(steps=[\n",
    "    ('tfv', TfidfVectorizer()),\n",
    "    ('rf', RandomForestClassifier(random_state=42)),\n",
    "])\n",
    "gs_tfv = GridSearchCV(estimator=pipeline, param_grid=grid_tfv)"
   ]
  },
  {
   "cell_type": "code",
   "execution_count": 39,
   "id": "29a9820f-4324-4283-b02b-19b88c79f146",
   "metadata": {},
   "outputs": [
    {
     "data": {
      "text/plain": [
       "GridSearchCV(estimator=Pipeline(steps=[('tfv', TfidfVectorizer()),\n",
       "                                       ('rf',\n",
       "                                        RandomForestClassifier(random_state=42))]),\n",
       "             param_grid={'rf__max_depth': [95, 100, 120, 150, 160, 165, 170],\n",
       "                         'rf__min_samples_split': [100, 105, 110, 120, 125, 130,\n",
       "                                                   135, 140],\n",
       "                         'rf__n_estimators': [100, 150, 155, 160, 165, 170]})"
      ]
     },
     "execution_count": 39,
     "metadata": {},
     "output_type": "execute_result"
    }
   ],
   "source": [
    "gs_tfv.fit(X_train, y_train)"
   ]
  },
  {
   "cell_type": "code",
   "execution_count": 40,
   "id": "0742272b-cd88-4f8e-ba30-cd8e79c001a7",
   "metadata": {},
   "outputs": [
    {
     "data": {
      "text/plain": [
       "{'rf__max_depth': 150, 'rf__min_samples_split': 130, 'rf__n_estimators': 160}"
      ]
     },
     "execution_count": 40,
     "metadata": {},
     "output_type": "execute_result"
    }
   ],
   "source": [
    "gs_tfv.best_params_"
   ]
  },
  {
   "cell_type": "code",
   "execution_count": 41,
   "id": "ab61da56-eeba-4530-a830-609cdb7537b4",
   "metadata": {},
   "outputs": [
    {
     "name": "stdout",
     "output_type": "stream",
     "text": [
      "Score on training set: 0.9121415497254424\n",
      "Score on testing set: 0.773308957952468\n"
     ]
    }
   ],
   "source": [
    "print(f'Score on training set: {gs_tfv.score(X_train, y_train)}')\n",
    "print(f'Score on testing set: {gs_tfv.score(X_test, y_test)}')"
   ]
  },
  {
   "cell_type": "code",
   "execution_count": 42,
   "id": "76709b71-4c90-4f92-af23-c25036da47de",
   "metadata": {},
   "outputs": [
    {
     "data": {
      "text/plain": [
       "0.7693387782501679"
      ]
     },
     "execution_count": 42,
     "metadata": {},
     "output_type": "execute_result"
    }
   ],
   "source": [
    "gs_tfv.best_score_"
   ]
  },
  {
   "cell_type": "code",
   "execution_count": 43,
   "id": "3b2fa6aa-12f0-47bf-af6e-bcc9b82bb192",
   "metadata": {},
   "outputs": [
    {
     "data": {
      "text/plain": [
       "array([[0.0698525 , 0.9301475 ],\n",
       "       [0.0698525 , 0.9301475 ],\n",
       "       [0.0698525 , 0.9301475 ],\n",
       "       ...,\n",
       "       [0.54806978, 0.45193022],\n",
       "       [0.86091519, 0.13908481],\n",
       "       [0.36773253, 0.63226747]])"
      ]
     },
     "execution_count": 43,
     "metadata": {},
     "output_type": "execute_result"
    }
   ],
   "source": [
    "gs_tfv.predict_proba(X_test)"
   ]
  },
  {
   "cell_type": "code",
   "execution_count": 44,
   "id": "e53845fc-d3da-429d-8464-a98564d4c846",
   "metadata": {},
   "outputs": [],
   "source": [
    "tfv_preds = gs_tfv.predict(X_test)"
   ]
  },
  {
   "cell_type": "markdown",
   "id": "7d1a0bbe-3994-490e-933c-4728a146b162",
   "metadata": {},
   "source": [
    "#### Plotting a Confusion Matrix -- TFIDF"
   ]
  },
  {
   "cell_type": "code",
   "execution_count": 45,
   "id": "8a13f218-8566-40b6-acf8-ea9d43d65be6",
   "metadata": {},
   "outputs": [
    {
     "name": "stdout",
     "output_type": "stream",
     "text": [
      "[[205  69]\n",
      " [ 55 218]]\n"
     ]
    }
   ],
   "source": [
    "tn_tfv, fp_tfv, fn_tfv, tp_tfv = confusion_matrix(y_test,\n",
    "                                  tfv_preds).ravel()\n",
    "\n",
    "print(confusion_matrix(y_test,\n",
    "                       tfv_preds))"
   ]
  },
  {
   "cell_type": "code",
   "execution_count": 46,
   "id": "d4dd9553-e256-49d4-beaa-1c94374cc8be",
   "metadata": {},
   "outputs": [
    {
     "data": {
      "image/png": "[encoded data removed]",
      "text/plain": [
       "<Figure size 432x288 with 2 Axes>"
      ]
     },
     "metadata": {
      "needs_background": "light"
     },
     "output_type": "display_data"
    }
   ],
   "source": [
    "plot_confusion_matrix(estimator=gs_tfv, X = X_test, y_true=y_test);"
   ]
  },
  {
   "cell_type": "code",
   "execution_count": 47,
   "id": "684ee878-a611-4ff5-949e-effe36970d36",
   "metadata": {},
   "outputs": [
    {
     "name": "stdout",
     "output_type": "stream",
     "text": [
      "Sensitivity: 0.2267\n"
     ]
    }
   ],
   "source": [
    "# Calculate Misclassification.\n",
    "\n",
    "misclass = (fn_tfv + fp_tfv) / (tn_tfv + fp_tfv + fn_tfv + tp_tfv)\n",
    "\n",
    "print(f'Sensitivity: {round(misclass, 4)}')"
   ]
  },
  {
   "cell_type": "markdown",
   "id": "77efffa4-ec11-4687-90f6-62767704916a",
   "metadata": {},
   "source": [
    "The model **incorrectly** predicted 22.67% of the observations"
   ]
  },
  {
   "cell_type": "code",
   "execution_count": 65,
   "id": "e8d97ad4-ed8b-4a98-b4c0-d04fa8140ea1",
   "metadata": {},
   "outputs": [
    {
     "name": "stdout",
     "output_type": "stream",
     "text": [
      "                    precision    recall  f1-score   support\n",
      "\n",
      "AmongUsCompetitive       0.79      0.75      0.77       274\n",
      "      AmongUsMemes       0.76      0.80      0.78       273\n",
      "\n",
      "          accuracy                           0.77       547\n",
      "         macro avg       0.77      0.77      0.77       547\n",
      "      weighted avg       0.77      0.77      0.77       547\n",
      "\n"
     ]
    }
   ],
   "source": [
    "print(classification_report(y_test, tfv_preds))"
   ]
  },
  {
   "cell_type": "markdown",
   "id": "eb7d5a5f-b0a8-4ebe-883b-e878a192f5eb",
   "metadata": {},
   "source": [
    "#### Prediction Values vs. Actual Values -- TFIDF"
   ]
  },
  {
   "cell_type": "code",
   "execution_count": 48,
   "id": "3f7beee5-cdaa-4f58-ab4c-b8fa040c721b",
   "metadata": {},
   "outputs": [
    {
     "data": {
      "text/html": [
       "<div>\n",
       "<style scoped>\n",
       "    .dataframe tbody tr th:only-of-type {\n",
       "        vertical-align: middle;\n",
       "    }\n",
       "\n",
       "    .dataframe tbody tr th {\n",
       "        vertical-align: top;\n",
       "    }\n",
       "\n",
       "    .dataframe thead th {\n",
       "        text-align: right;\n",
       "    }\n",
       "</style>\n",
       "<table border=\"1\" class=\"dataframe\">\n",
       "  <thead>\n",
       "    <tr style=\"text-align: right;\">\n",
       "      <th></th>\n",
       "      <th>actual</th>\n",
       "      <th>predictions</th>\n",
       "    </tr>\n",
       "  </thead>\n",
       "  <tbody>\n",
       "    <tr>\n",
       "      <th>1527</th>\n",
       "      <td>AmongUsMemes</td>\n",
       "      <td>AmongUsMemes</td>\n",
       "    </tr>\n",
       "    <tr>\n",
       "      <th>1925</th>\n",
       "      <td>AmongUsMemes</td>\n",
       "      <td>AmongUsMemes</td>\n",
       "    </tr>\n",
       "    <tr>\n",
       "      <th>276</th>\n",
       "      <td>AmongUsCompetitive</td>\n",
       "      <td>AmongUsMemes</td>\n",
       "    </tr>\n",
       "    <tr>\n",
       "      <th>1923</th>\n",
       "      <td>AmongUsMemes</td>\n",
       "      <td>AmongUsMemes</td>\n",
       "    </tr>\n",
       "    <tr>\n",
       "      <th>484</th>\n",
       "      <td>AmongUsCompetitive</td>\n",
       "      <td>AmongUsCompetitive</td>\n",
       "    </tr>\n",
       "  </tbody>\n",
       "</table>\n",
       "</div>"
      ],
      "text/plain": [
       "                  actual         predictions\n",
       "1527        AmongUsMemes        AmongUsMemes\n",
       "1925        AmongUsMemes        AmongUsMemes\n",
       "276   AmongUsCompetitive        AmongUsMemes\n",
       "1923        AmongUsMemes        AmongUsMemes\n",
       "484   AmongUsCompetitive  AmongUsCompetitive"
      ]
     },
     "execution_count": 48,
     "metadata": {},
     "output_type": "execute_result"
    }
   ],
   "source": [
    "new_df_tfv = pd.DataFrame(y_test)\n",
    "\n",
    "new_df_tfv['predictions'] = tfv_preds\n",
    "\n",
    "new_df_tfv.rename(columns={\"subreddit\": \"actual\"}, inplace=True)\n",
    "\n",
    "new_df_tfv.head()"
   ]
  },
  {
   "cell_type": "code",
   "execution_count": 49,
   "id": "457be8c1-ea98-4b70-bd05-25d52ee3d01e",
   "metadata": {},
   "outputs": [
    {
     "data": {
      "text/plain": [
       "actual         124\n",
       "predictions    124\n",
       "dtype: int64"
      ]
     },
     "execution_count": 49,
     "metadata": {},
     "output_type": "execute_result"
    }
   ],
   "source": [
    "new_df_tfv.loc[new_df_tfv['actual']!= new_df_tfv['predictions']].count()"
   ]
  },
  {
   "cell_type": "code",
   "execution_count": 50,
   "id": "dd4dd028-2a12-4b0e-9890-0abe7087bb99",
   "metadata": {},
   "outputs": [
    {
     "data": {
      "text/plain": [
       "array(['AmongUsMemes', 'AmongUsCompetitive', 'AmongUsMemes',\n",
       "       'AmongUsMemes'], dtype=object)"
      ]
     },
     "execution_count": 50,
     "metadata": {},
     "output_type": "execute_result"
    }
   ],
   "source": [
    "gs_tfv.predict([\n",
    "    \"imposter\",\n",
    "    \"among us\", \n",
    "    'sus',\n",
    "    'sussy'\n",
    "])"
   ]
  },
  {
   "cell_type": "code",
   "execution_count": 51,
   "id": "cc372994-1ef8-4b99-b43e-df311ca5e132",
   "metadata": {},
   "outputs": [
    {
     "data": {
      "text/plain": [
       "array(['AmongUsMemes', 'AmongUsCompetitive', 'AmongUsMemes',\n",
       "       'AmongUsMemes'], dtype=object)"
      ]
     },
     "execution_count": 51,
     "metadata": {},
     "output_type": "execute_result"
    }
   ],
   "source": [
    "gs_tfv.predict([\n",
    "    \"Best imposter out there\",\n",
    "    \"looking for a team\", \n",
    "    'pig is sus',\n",
    "    'the sussy queen'\n",
    "])"
   ]
  },
  {
   "cell_type": "markdown",
   "id": "ef287657-1ab3-4c92-a2ee-539edb87cba0",
   "metadata": {},
   "source": [
    "#### Looking at Word 'team' in the Dataframe"
   ]
  },
  {
   "cell_type": "code",
   "execution_count": 52,
   "id": "c2658f2b-42bd-4832-be45-18e31f89d989",
   "metadata": {},
   "outputs": [
    {
     "data": {
      "text/html": [
       "<div>\n",
       "<style scoped>\n",
       "    .dataframe tbody tr th:only-of-type {\n",
       "        vertical-align: middle;\n",
       "    }\n",
       "\n",
       "    .dataframe tbody tr th {\n",
       "        vertical-align: top;\n",
       "    }\n",
       "\n",
       "    .dataframe thead th {\n",
       "        text-align: right;\n",
       "    }\n",
       "</style>\n",
       "<table border=\"1\" class=\"dataframe\">\n",
       "  <thead>\n",
       "    <tr style=\"text-align: right;\">\n",
       "      <th></th>\n",
       "      <th>subreddit</th>\n",
       "      <th>title</th>\n",
       "    </tr>\n",
       "  </thead>\n",
       "  <tbody>\n",
       "    <tr>\n",
       "      <th>329</th>\n",
       "      <td>AmongUsCompetitive</td>\n",
       "      <td>I am looking for an among us esports team</td>\n",
       "    </tr>\n",
       "    <tr>\n",
       "      <th>447</th>\n",
       "      <td>AmongUsCompetitive</td>\n",
       "      <td>Airship Update Redirecting To Steam</td>\n",
       "    </tr>\n",
       "    <tr>\n",
       "      <th>597</th>\n",
       "      <td>AmongUsCompetitive</td>\n",
       "      <td>VOD Review - DK and Steve steamroll Hafu’s lob...</td>\n",
       "    </tr>\n",
       "    <tr>\n",
       "      <th>912</th>\n",
       "      <td>AmongUsCompetitive</td>\n",
       "      <td>AUC content creator team</td>\n",
       "    </tr>\n",
       "    <tr>\n",
       "      <th>1028</th>\n",
       "      <td>AmongUsCompetitive</td>\n",
       "      <td>White was exploiting and easily spotted me and...</td>\n",
       "    </tr>\n",
       "  </tbody>\n",
       "</table>\n",
       "</div>"
      ],
      "text/plain": [
       "               subreddit                                              title\n",
       "329   AmongUsCompetitive          I am looking for an among us esports team\n",
       "447   AmongUsCompetitive                Airship Update Redirecting To Steam\n",
       "597   AmongUsCompetitive  VOD Review - DK and Steve steamroll Hafu’s lob...\n",
       "912   AmongUsCompetitive                           AUC content creator team\n",
       "1028  AmongUsCompetitive  White was exploiting and easily spotted me and..."
      ]
     },
     "execution_count": 52,
     "metadata": {},
     "output_type": "execute_result"
    }
   ],
   "source": [
    "among_us_df.loc[(among_us_df['title'].str.contains('team')) & (among_us_df['subreddit']=='AmongUsCompetitive')]"
   ]
  },
  {
   "cell_type": "code",
   "execution_count": 53,
   "id": "b4eb2d0b-43fe-4b6a-ba19-a0949962025d",
   "metadata": {},
   "outputs": [
    {
     "data": {
      "text/html": [
       "<div>\n",
       "<style scoped>\n",
       "    .dataframe tbody tr th:only-of-type {\n",
       "        vertical-align: middle;\n",
       "    }\n",
       "\n",
       "    .dataframe tbody tr th {\n",
       "        vertical-align: top;\n",
       "    }\n",
       "\n",
       "    .dataframe thead th {\n",
       "        text-align: right;\n",
       "    }\n",
       "</style>\n",
       "<table border=\"1\" class=\"dataframe\">\n",
       "  <thead>\n",
       "    <tr style=\"text-align: right;\">\n",
       "      <th></th>\n",
       "      <th>subreddit</th>\n",
       "      <th>title</th>\n",
       "    </tr>\n",
       "  </thead>\n",
       "  <tbody>\n",
       "    <tr>\n",
       "      <th>1876</th>\n",
       "      <td>AmongUsMemes</td>\n",
       "      <td>Being a teamer = getting shot by a musket</td>\n",
       "    </tr>\n",
       "  </tbody>\n",
       "</table>\n",
       "</div>"
      ],
      "text/plain": [
       "         subreddit                                      title\n",
       "1876  AmongUsMemes  Being a teamer = getting shot by a musket"
      ]
     },
     "execution_count": 53,
     "metadata": {},
     "output_type": "execute_result"
    }
   ],
   "source": [
    "among_us_df.loc[(among_us_df['title'].str.contains('team')) & (among_us_df['subreddit']=='AmongUsMemes')]"
   ]
  },
  {
   "cell_type": "markdown",
   "id": "cb8331c3-7c9d-4677-9280-bf1a5ae989ad",
   "metadata": {},
   "source": [
    "### Making a Custom Word List "
   ]
  },
  {
   "cell_type": "code",
   "execution_count": 55,
   "id": "7cfb93ac-8bf1-4427-b685-a80049e4d08c",
   "metadata": {},
   "outputs": [],
   "source": [
    "custom_stopwords = ['sus', 'sussy', 'imposter', 'among' , 'us']"
   ]
  },
  {
   "cell_type": "code",
   "execution_count": 56,
   "id": "6dc8e6fd-ac4d-43fe-bc13-212ebc088351",
   "metadata": {},
   "outputs": [],
   "source": [
    "pipeline_custom = Pipeline(steps=[\n",
    "    ('cv', CountVectorizer(stop_words=custom_stopwords)),\n",
    "    ('rfc', RandomForestClassifier(random_state=42))\n",
    "])"
   ]
  },
  {
   "cell_type": "code",
   "execution_count": 57,
   "id": "65ad4e3d-770f-478e-8c8e-c69ccba1563a",
   "metadata": {},
   "outputs": [
    {
     "data": {
      "text/plain": [
       "Pipeline(steps=[('cv',\n",
       "                 CountVectorizer(stop_words=['sus', 'sussy', 'imposter',\n",
       "                                             'among', 'us'])),\n",
       "                ('rfc', RandomForestClassifier(random_state=42))])"
      ]
     },
     "execution_count": 57,
     "metadata": {},
     "output_type": "execute_result"
    }
   ],
   "source": [
    "pipeline_custom.fit(X_train, y_train)"
   ]
  },
  {
   "cell_type": "code",
   "execution_count": 58,
   "id": "e6e9ef81-7b64-4818-b994-51565fe9f7ca",
   "metadata": {},
   "outputs": [
    {
     "data": {
      "text/plain": [
       "(0.9792556436851739, 0.7294332723948812)"
      ]
     },
     "execution_count": 58,
     "metadata": {},
     "output_type": "execute_result"
    }
   ],
   "source": [
    "pipeline_custom.score(X_train, y_train), pipeline_custom.score(X_test, y_test)"
   ]
  },
  {
   "cell_type": "code",
   "execution_count": 59,
   "id": "9144c961-bf3e-4bcb-87ed-bf924008a81f",
   "metadata": {},
   "outputs": [],
   "source": [
    "preds_custom = pipeline_custom.predict(X_test)"
   ]
  },
  {
   "cell_type": "markdown",
   "id": "dc4dab8d-c860-4fcb-8710-8e6efceb2b14",
   "metadata": {},
   "source": [
    "#### Prediction Values vs. Actual Values"
   ]
  },
  {
   "cell_type": "code",
   "execution_count": 60,
   "id": "af4799ff-d0c1-48d2-acc6-893c63d716dc",
   "metadata": {},
   "outputs": [
    {
     "data": {
      "text/html": [
       "<div>\n",
       "<style scoped>\n",
       "    .dataframe tbody tr th:only-of-type {\n",
       "        vertical-align: middle;\n",
       "    }\n",
       "\n",
       "    .dataframe tbody tr th {\n",
       "        vertical-align: top;\n",
       "    }\n",
       "\n",
       "    .dataframe thead th {\n",
       "        text-align: right;\n",
       "    }\n",
       "</style>\n",
       "<table border=\"1\" class=\"dataframe\">\n",
       "  <thead>\n",
       "    <tr style=\"text-align: right;\">\n",
       "      <th></th>\n",
       "      <th>actual</th>\n",
       "      <th>predictions</th>\n",
       "    </tr>\n",
       "  </thead>\n",
       "  <tbody>\n",
       "    <tr>\n",
       "      <th>1527</th>\n",
       "      <td>AmongUsMemes</td>\n",
       "      <td>AmongUsCompetitive</td>\n",
       "    </tr>\n",
       "    <tr>\n",
       "      <th>1925</th>\n",
       "      <td>AmongUsMemes</td>\n",
       "      <td>AmongUsCompetitive</td>\n",
       "    </tr>\n",
       "    <tr>\n",
       "      <th>276</th>\n",
       "      <td>AmongUsCompetitive</td>\n",
       "      <td>AmongUsCompetitive</td>\n",
       "    </tr>\n",
       "    <tr>\n",
       "      <th>1923</th>\n",
       "      <td>AmongUsMemes</td>\n",
       "      <td>AmongUsCompetitive</td>\n",
       "    </tr>\n",
       "    <tr>\n",
       "      <th>484</th>\n",
       "      <td>AmongUsCompetitive</td>\n",
       "      <td>AmongUsCompetitive</td>\n",
       "    </tr>\n",
       "  </tbody>\n",
       "</table>\n",
       "</div>"
      ],
      "text/plain": [
       "                  actual         predictions\n",
       "1527        AmongUsMemes  AmongUsCompetitive\n",
       "1925        AmongUsMemes  AmongUsCompetitive\n",
       "276   AmongUsCompetitive  AmongUsCompetitive\n",
       "1923        AmongUsMemes  AmongUsCompetitive\n",
       "484   AmongUsCompetitive  AmongUsCompetitive"
      ]
     },
     "execution_count": 60,
     "metadata": {},
     "output_type": "execute_result"
    }
   ],
   "source": [
    "new_df_custom = pd.DataFrame(y_test)\n",
    "\n",
    "new_df_custom['predictions'] = preds_custom\n",
    "\n",
    "new_df_custom.rename(columns={\"subreddit\": \"actual\"}, inplace=True)\n",
    "\n",
    "new_df_custom.head()"
   ]
  },
  {
   "cell_type": "code",
   "execution_count": 61,
   "id": "3ecd8e62-c3d3-4e40-9bb1-35a0ba71a853",
   "metadata": {},
   "outputs": [
    {
     "data": {
      "text/plain": [
       "actual         148\n",
       "predictions    148\n",
       "dtype: int64"
      ]
     },
     "execution_count": 61,
     "metadata": {},
     "output_type": "execute_result"
    }
   ],
   "source": [
    "new_df_custom.loc[new_df_custom['actual']!= new_df_custom['predictions']].count()"
   ]
  },
  {
   "cell_type": "markdown",
   "id": "df9d8c22-1650-4eff-aaf7-948f8993abdf",
   "metadata": {},
   "source": [
    "### Exporting the Model Using Pickle"
   ]
  },
  {
   "cell_type": "markdown",
   "id": "b743dc21-379f-4292-9078-8099be519b4d",
   "metadata": {},
   "source": [
    "Using this to build the streamlit app!"
   ]
  },
  {
   "cell_type": "code",
   "execution_count": 66,
   "id": "ca5d5934-4afe-4961-a846-afc7ec5b3039",
   "metadata": {},
   "outputs": [],
   "source": [
    "with open('../modeling-code/amongus_gs.pkl', mode='wb') as pickle_out:\n",
    "    pickle.dump(gs_tfv, pickle_out) "
   ]
  }
 ],
 "metadata": {
  "kernelspec": {
   "display_name": "Python 3",
   "language": "python",
   "name": "python3"
  },
  "language_info": {
   "codemirror_mode": {
    "name": "ipython",
    "version": 3
   },
   "file_extension": ".py",
   "mimetype": "text/x-python",
   "name": "python",
   "nbconvert_exporter": "python",
   "pygments_lexer": "ipython3",
   "version": "3.8.8"
  }
 },
 "nbformat": 4,
 "nbformat_minor": 5
}
